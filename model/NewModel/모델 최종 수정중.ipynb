{
 "cells": [
  {
   "cell_type": "code",
   "execution_count": 1,
   "id": "50d1e8cf",
   "metadata": {
    "scrolled": true
   },
   "outputs": [
    {
     "name": "stdout",
     "output_type": "stream",
     "text": [
      "Requirement already satisfied: import_ipynb in c:\\users\\tim08\\anaconda3\\lib\\site-packages (0.1.3)\n",
      "importing Jupyter notebook from model_test_for_openmax_revise.ipynb\n",
      "hate_data : 100000\n",
      "genderbias_data : 1232\n",
      "ilbe_data : 2044\n",
      "등장 빈도가 1번 이하인 희귀 단어의 수: 23893\n",
      "단어 집합(vocabulary)에서 희귀 단어의 비율: 83.24507002996306\n",
      "전체 등장 빈도에서 희귀 단어 등장 빈도 비율: 48.5610341043047\n",
      "문장 최대 길이 : 194\n",
      "문장 평균 길이 : 9.338015\n"
     ]
    },
    {
     "data": {
      "image/png": "[encoded data removed]",
      "text/plain": [
       "<Figure size 432x288 with 1 Axes>"
      ]
     },
     "metadata": {
      "needs_background": "light"
     },
     "output_type": "display_data"
    },
    {
     "name": "stdout",
     "output_type": "stream",
     "text": [
      "Model: \"sequential\"\n",
      "_________________________________________________________________\n",
      "Layer (type)                 Output Shape              Param #   \n",
      "=================================================================\n",
      "embedding (Embedding)        (None, 194, 64)           64000000  \n",
      "_________________________________________________________________\n",
      "dropout (Dropout)            (None, 194, 64)           0         \n",
      "_________________________________________________________________\n",
      "conv1d (Conv1D)              (None, 192, 64)           12352     \n",
      "_________________________________________________________________\n",
      "global_max_pooling1d (Global (None, 64)                0         \n",
      "_________________________________________________________________\n",
      "dropout_1 (Dropout)          (None, 64)                0         \n",
      "_________________________________________________________________\n",
      "dense (Dense)                (None, 64)                4160      \n",
      "_________________________________________________________________\n",
      "dropout_2 (Dropout)          (None, 64)                0         \n",
      "_________________________________________________________________\n",
      "dense_1 (Dense)              (None, 3)                 195       \n",
      "=================================================================\n",
      "Total params: 64,016,707\n",
      "Trainable params: 64,016,707\n",
      "Non-trainable params: 0\n",
      "_________________________________________________________________\n",
      "Epoch 1/5\n",
      "132/132 [==============================] - 50s 376ms/step - loss: 1.0847 - accuracy: 0.3824\n",
      "Epoch 2/5\n",
      "132/132 [==============================] - 49s 372ms/step - loss: 1.0547 - accuracy: 0.4327\n",
      "Epoch 3/5\n",
      "132/132 [==============================] - 49s 370ms/step - loss: 0.8833 - accuracy: 0.5986\n",
      "Epoch 4/5\n",
      "132/132 [==============================] - 49s 370ms/step - loss: 0.5528 - accuracy: 0.7839\n",
      "Epoch 5/5\n",
      "132/132 [==============================] - 49s 374ms/step - loss: 0.2885 - accuracy: 0.9060\n",
      "Model: \"sequential_1\"\n",
      "_________________________________________________________________\n",
      "Layer (type)                 Output Shape              Param #   \n",
      "=================================================================\n",
      "embedding_1 (Embedding)      (None, 194, 64)           64000000  \n",
      "_________________________________________________________________\n",
      "dropout_3 (Dropout)          (None, 194, 64)           0         \n",
      "_________________________________________________________________\n",
      "conv1d_1 (Conv1D)            (None, 192, 64)           12352     \n",
      "_________________________________________________________________\n",
      "global_max_pooling1d_1 (Glob (None, 64)                0         \n",
      "_________________________________________________________________\n",
      "dropout_4 (Dropout)          (None, 64)                0         \n",
      "_________________________________________________________________\n",
      "dense_2 (Dense)              (None, 64)                4160      \n",
      "_________________________________________________________________\n",
      "dropout_5 (Dropout)          (None, 64)                0         \n",
      "_________________________________________________________________\n",
      "dense_3 (Dense)              (None, 3)                 195       \n",
      "=================================================================\n",
      "Total params: 64,016,707\n",
      "Trainable params: 64,016,707\n",
      "Non-trainable params: 0\n",
      "_________________________________________________________________\n",
      "Epoch 1/5\n",
      "132/132 [==============================] - 49s 372ms/step - loss: 1.0832 - accuracy: 0.3936\n",
      "Epoch 2/5\n",
      "132/132 [==============================] - 50s 376ms/step - loss: 1.0581 - accuracy: 0.4389\n",
      "Epoch 3/5\n",
      "132/132 [==============================] - 51s 385ms/step - loss: 0.8801 - accuracy: 0.6074\n",
      "Epoch 4/5\n",
      "132/132 [==============================] - 49s 371ms/step - loss: 0.5668 - accuracy: 0.7630\n",
      "Epoch 5/5\n",
      "132/132 [==============================] - 49s 371ms/step - loss: 0.3283 - accuracy: 0.8821\n",
      "Epoch 1/5\n",
      "132/132 [==============================] - 50s 376ms/step - loss: 0.1794 - accuracy: 0.9459\n",
      "Epoch 2/5\n",
      "132/132 [==============================] - 49s 374ms/step - loss: 0.0954 - accuracy: 0.9744\n",
      "Epoch 3/5\n",
      "132/132 [==============================] - 50s 376ms/step - loss: 0.0529 - accuracy: 0.9855\n",
      "Epoch 4/5\n",
      "132/132 [==============================] - 50s 375ms/step - loss: 0.0347 - accuracy: 0.9915\n",
      "Epoch 5/5\n",
      "132/132 [==============================] - 50s 377ms/step - loss: 0.0206 - accuracy: 0.9938\n",
      "274.8958465093631 80.64043642639948\n"
     ]
    },
    {
     "data": {
      "image/png": "[encoded data removed]",
      "text/plain": [
       "<Figure size 432x288 with 1 Axes>"
      ]
     },
     "metadata": {
      "needs_background": "light"
     },
     "output_type": "display_data"
    },
    {
     "name": "stdout",
     "output_type": "stream",
     "text": [
      "67.44989233987454 21.310148898930702\n"
     ]
    },
    {
     "data": {
      "image/png": "[encoded data removed]",
      "text/plain": [
       "<Figure size 432x288 with 1 Axes>"
      ]
     },
     "metadata": {
      "needs_background": "light"
     },
     "output_type": "display_data"
    },
    {
     "name": "stdout",
     "output_type": "stream",
     "text": [
      "291.0908551148864 121.09069543108505\n"
     ]
    },
    {
     "data": {
      "image/png": "[encoded data removed]",
      "text/plain": [
       "<Figure size 432x288 with 1 Axes>"
      ]
     },
     "metadata": {
      "needs_background": "light"
     },
     "output_type": "display_data"
    },
    {
     "name": "stdout",
     "output_type": "stream",
     "text": [
      "66/66 [==============================] - 0s 409us/step - loss: 1.1682 - accuracy: 0.5683\n"
     ]
    },
    {
     "data": {
      "image/png": "[encoded data removed]",
      "text/plain": [
       "<Figure size 432x288 with 2 Axes>"
      ]
     },
     "metadata": {
      "needs_background": "light"
     },
     "output_type": "display_data"
    },
    {
     "name": "stdout",
     "output_type": "stream",
     "text": [
      "33/33 [==============================] - 0s 2ms/step - loss: 0.8549 - accuracy: 0.7362\n",
      "테스트 정확도: 0.7362\n"
     ]
    }
   ],
   "source": [
    "import numpy as np\n",
    "import pandas as pd\n",
    "%matplotlib inline\n",
    "import matplotlib.pyplot as plt\n",
    "from tensorflow.keras.preprocessing.text import Tokenizer\n",
    "from tensorflow.keras.preprocessing.sequence import pad_sequences\n",
    "!pip install import_ipynb\n",
    "import import_ipynb\n",
    "import model_test_for_openmax_revise"
   ]
  },
  {
   "cell_type": "code",
   "execution_count": 269,
   "id": "02837354",
   "metadata": {},
   "outputs": [
    {
     "name": "stdout",
     "output_type": "stream",
     "text": [
      "안녕하세요 저는\n"
     ]
    }
   ],
   "source": [
    "input_data = str(input())   # 아직 입력부를 구현하지 않아 임시로 입력"
   ]
  },
  {
   "cell_type": "code",
   "execution_count": 273,
   "id": "21fd36d1",
   "metadata": {},
   "outputs": [],
   "source": [
    "def tokenize(x_data, tokenizer):\n",
    "    tokenizer.fit_on_texts(x_data) # 데이터의 각 행별로 토큰화 수행\n",
    "    return tokenizer.texts_to_sequences(x_data)    "
   ]
  },
  {
   "cell_type": "code",
   "execution_count": 275,
   "id": "5ca23929",
   "metadata": {},
   "outputs": [
    {
     "data": {
      "text/plain": [
       "['안녕하세요 저는']"
      ]
     },
     "execution_count": 275,
     "metadata": {},
     "output_type": "execute_result"
    }
   ],
   "source": [
    "x_data = []\n",
    "x_data.append(input_data)\n",
    "y_data = -1    # 임시 값\n",
    "\n",
    "x_data"
   ]
  },
  {
   "cell_type": "code",
   "execution_count": 276,
   "id": "d227dfa8",
   "metadata": {},
   "outputs": [
    {
     "data": {
      "text/plain": [
       "[[1, 2]]"
      ]
     },
     "execution_count": 276,
     "metadata": {},
     "output_type": "execute_result"
    }
   ],
   "source": [
    "tokenizer = Tokenizer()\n",
    "sequences = tokenize(x_data, tokenizer)\n",
    "sequences"
   ]
  },
  {
   "cell_type": "markdown",
   "id": "15aa16f3",
   "metadata": {},
   "source": [
    "## 모델 적용"
   ]
  },
  {
   "cell_type": "code",
   "execution_count": 277,
   "id": "b24325db",
   "metadata": {},
   "outputs": [
    {
     "name": "stdout",
     "output_type": "stream",
     "text": [
      "Requirement already satisfied: keras.models in c:\\users\\tim08\\anaconda3\\lib\\site-packages (0.0.7)\n",
      "Requirement already satisfied: numpy in c:\\users\\tim08\\anaconda3\\lib\\site-packages (from keras.models) (1.20.1)\n",
      "Requirement already satisfied: keras in c:\\users\\tim08\\anaconda3\\lib\\site-packages (from keras.models) (2.4.3)\n",
      "Requirement already satisfied: pathlib in c:\\users\\tim08\\anaconda3\\lib\\site-packages (from keras.models) (1.0.1)\n",
      "Requirement already satisfied: Pillow in c:\\users\\tim08\\anaconda3\\lib\\site-packages (from keras.models) (8.2.0)\n",
      "Requirement already satisfied: opencv-python in c:\\users\\tim08\\anaconda3\\lib\\site-packages (from keras.models) (4.5.2.54)\n",
      "Requirement already satisfied: spacy in c:\\users\\tim08\\anaconda3\\lib\\site-packages (from keras.models) (3.0.6)\n",
      "Requirement already satisfied: h5py in c:\\users\\tim08\\anaconda3\\lib\\site-packages (from keras->keras.models) (2.10.0)\n",
      "Requirement already satisfied: scipy>=0.14 in c:\\users\\tim08\\anaconda3\\lib\\site-packages (from keras->keras.models) (1.6.2)\n",
      "Requirement already satisfied: pyyaml in c:\\users\\tim08\\anaconda3\\lib\\site-packages (from keras->keras.models) (5.4.1)\n",
      "Requirement already satisfied: six in c:\\users\\tim08\\anaconda3\\lib\\site-packages (from h5py->keras->keras.models) (1.15.0)\n",
      "Requirement already satisfied: typer<0.4.0,>=0.3.0 in c:\\users\\tim08\\anaconda3\\lib\\site-packages (from spacy->keras.models) (0.3.2)\n",
      "Requirement already satisfied: tqdm<5.0.0,>=4.38.0 in c:\\users\\tim08\\anaconda3\\lib\\site-packages (from spacy->keras.models) (4.59.0)\n",
      "Requirement already satisfied: spacy-legacy<3.1.0,>=3.0.4 in c:\\users\\tim08\\anaconda3\\lib\\site-packages (from spacy->keras.models) (3.0.5)\n",
      "Requirement already satisfied: requests<3.0.0,>=2.13.0 in c:\\users\\tim08\\anaconda3\\lib\\site-packages (from spacy->keras.models) (2.25.1)\n",
      "Requirement already satisfied: cymem<2.1.0,>=2.0.2 in c:\\users\\tim08\\anaconda3\\lib\\site-packages (from spacy->keras.models) (2.0.5)\n",
      "Requirement already satisfied: srsly<3.0.0,>=2.4.1 in c:\\users\\tim08\\anaconda3\\lib\\site-packages (from spacy->keras.models) (2.4.1)\n",
      "Requirement already satisfied: wasabi<1.1.0,>=0.8.1 in c:\\users\\tim08\\anaconda3\\lib\\site-packages (from spacy->keras.models) (0.8.2)\n",
      "Requirement already satisfied: pydantic<1.8.0,>=1.7.1 in c:\\users\\tim08\\anaconda3\\lib\\site-packages (from spacy->keras.models) (1.7.4)\n",
      "Requirement already satisfied: blis<0.8.0,>=0.4.0 in c:\\users\\tim08\\anaconda3\\lib\\site-packages (from spacy->keras.models) (0.7.4)\n",
      "Requirement already satisfied: murmurhash<1.1.0,>=0.28.0 in c:\\users\\tim08\\anaconda3\\lib\\site-packages (from spacy->keras.models) (1.0.5)\n",
      "Requirement already satisfied: catalogue<2.1.0,>=2.0.3 in c:\\users\\tim08\\anaconda3\\lib\\site-packages (from spacy->keras.models) (2.0.4)\n",
      "Requirement already satisfied: thinc<8.1.0,>=8.0.3 in c:\\users\\tim08\\anaconda3\\lib\\site-packages (from spacy->keras.models) (8.0.4)\n",
      "Requirement already satisfied: jinja2 in c:\\users\\tim08\\anaconda3\\lib\\site-packages (from spacy->keras.models) (2.11.3)\n",
      "Requirement already satisfied: setuptools in c:\\users\\tim08\\anaconda3\\lib\\site-packages (from spacy->keras.models) (52.0.0.post20210125)\n",
      "Requirement already satisfied: packaging>=20.0 in c:\\users\\tim08\\anaconda3\\lib\\site-packages (from spacy->keras.models) (20.9)\n",
      "Requirement already satisfied: pathy>=0.3.5 in c:\\users\\tim08\\anaconda3\\lib\\site-packages (from spacy->keras.models) (0.5.2)\n",
      "Requirement already satisfied: preshed<3.1.0,>=3.0.2 in c:\\users\\tim08\\anaconda3\\lib\\site-packages (from spacy->keras.models) (3.0.5)\n",
      "Requirement already satisfied: pyparsing>=2.0.2 in c:\\users\\tim08\\anaconda3\\lib\\site-packages (from packaging>=20.0->spacy->keras.models) (2.4.7)\n",
      "Requirement already satisfied: smart-open<4.0.0,>=2.2.0 in c:\\users\\tim08\\anaconda3\\lib\\site-packages (from pathy>=0.3.5->spacy->keras.models) (3.0.0)\n",
      "Requirement already satisfied: chardet<5,>=3.0.2 in c:\\users\\tim08\\anaconda3\\lib\\site-packages (from requests<3.0.0,>=2.13.0->spacy->keras.models) (4.0.0)\n",
      "Requirement already satisfied: certifi>=2017.4.17 in c:\\users\\tim08\\anaconda3\\lib\\site-packages (from requests<3.0.0,>=2.13.0->spacy->keras.models) (2020.12.5)\n",
      "Requirement already satisfied: idna<3,>=2.5 in c:\\users\\tim08\\anaconda3\\lib\\site-packages (from requests<3.0.0,>=2.13.0->spacy->keras.models) (2.10)\n",
      "Requirement already satisfied: urllib3<1.27,>=1.21.1 in c:\\users\\tim08\\anaconda3\\lib\\site-packages (from requests<3.0.0,>=2.13.0->spacy->keras.models) (1.26.4)\n",
      "Requirement already satisfied: click<7.2.0,>=7.1.1 in c:\\users\\tim08\\anaconda3\\lib\\site-packages (from typer<0.4.0,>=0.3.0->spacy->keras.models) (7.1.2)\n",
      "Requirement already satisfied: MarkupSafe>=0.23 in c:\\users\\tim08\\anaconda3\\lib\\site-packages (from jinja2->spacy->keras.models) (1.1.1)\n"
     ]
    }
   ],
   "source": [
    "!pip install keras.models\n",
    "from keras.models import model_from_json\n",
    "json_file = open(\"model.json\", \"r\")\n",
    "loaded_model_json = json_file.read() \n",
    "json_file.close()\n",
    "loaded_model = model_from_json(loaded_model_json)"
   ]
  },
  {
   "cell_type": "code",
   "execution_count": 278,
   "id": "fc59e737",
   "metadata": {},
   "outputs": [],
   "source": [
    "loaded_model.load_weights(\"model_weight.h5\")"
   ]
  },
  {
   "cell_type": "code",
   "execution_count": 279,
   "id": "66602d02",
   "metadata": {},
   "outputs": [],
   "source": [
    "#model.compile(optimizer='adam', loss=SparseCategoricalCrossentropy(from_logits=True),metrics= [\"accuracy\"])\n",
    "#es = EarlyStopping(monitor='loss', mode='min' , min_delta=0)\n",
    "#check_point = ModelCheckpoint('apply_model.h5', monitor='loss', mode='min', save_best_only=True)\n",
    "loaded_model.compile(optimizer='adam', loss='sparse_categorical_crossentropy',metrics= [\"accuracy\"])"
   ]
  },
  {
   "cell_type": "code",
   "execution_count": 296,
   "id": "11f7f1d8",
   "metadata": {},
   "outputs": [
    {
     "data": {
      "text/plain": [
       "array([ 10.39415  ,  -3.7655826, -10.047039 ], dtype=float32)"
      ]
     },
     "execution_count": 296,
     "metadata": {},
     "output_type": "execute_result"
    }
   ],
   "source": [
    "data = sequences\n",
    "X_data = pad_sequences(data, maxlen = model_test_for_openmax_revise.pad_size)\n",
    "X_result = model_test_for_openmax_revise.model.predict(X_data, batch_size=32)\n",
    "X_Softmax = model_test_for_openmax_revise.model2.predict(X_result)\n",
    "\n",
    "X_result = X_result[0]\n",
    "X_result"
   ]
  },
  {
   "cell_type": "markdown",
   "id": "8b3a2472",
   "metadata": {},
   "source": [
    "## logit Vector, Distance 계산"
   ]
  },
  {
   "cell_type": "markdown",
   "id": "f9a45e9d",
   "metadata": {},
   "source": [
    "## 모델 저장"
   ]
  },
  {
   "cell_type": "code",
   "execution_count": 297,
   "id": "26d641b9",
   "metadata": {},
   "outputs": [],
   "source": [
    "dist0 = model_test_for_openmax_revise.distance(model_test_for_openmax_revise.average_0, X_result)\n",
    "dist1 = model_test_for_openmax_revise.distance(model_test_for_openmax_revise.average_1, X_result)\n",
    "dist2 = model_test_for_openmax_revise.distance(model_test_for_openmax_revise.average_2, X_result)"
   ]
  },
  {
   "cell_type": "markdown",
   "id": "e116d3c2",
   "metadata": {},
   "source": [
    "## CDF 계산"
   ]
  },
  {
   "cell_type": "code",
   "execution_count": 312,
   "id": "33d717bb",
   "metadata": {},
   "outputs": [],
   "source": [
    "import scipy.stats as s\n",
    "import matplotlib.pyplot as plt"
   ]
  },
  {
   "cell_type": "code",
   "execution_count": 313,
   "id": "b1ba74b1",
   "metadata": {},
   "outputs": [
    {
     "ename": "AttributeError",
     "evalue": "module 'model_test_for_openmax_revise' has no attribute 'loc0'",
     "output_type": "error",
     "traceback": [
      "\u001b[1;31m---------------------------------------------------------------------------\u001b[0m",
      "\u001b[1;31mAttributeError\u001b[0m                            Traceback (most recent call last)",
      "\u001b[1;32m<ipython-input-313-37a3454b4ab3>\u001b[0m in \u001b[0;36m<module>\u001b[1;34m\u001b[0m\n\u001b[0;32m      6\u001b[0m     \u001b[1;32mreturn\u001b[0m \u001b[1;33m(\u001b[0m\u001b[0ma\u001b[0m \u001b[1;33m/\u001b[0m \u001b[0mn\u001b[0m\u001b[1;33m)\u001b[0m \u001b[1;33m*\u001b[0m \u001b[1;33m(\u001b[0m\u001b[0mx\u001b[0m \u001b[1;33m/\u001b[0m \u001b[0mn\u001b[0m\u001b[1;33m)\u001b[0m\u001b[1;33m**\u001b[0m\u001b[1;33m(\u001b[0m\u001b[0ma\u001b[0m \u001b[1;33m-\u001b[0m \u001b[1;36m1\u001b[0m\u001b[1;33m)\u001b[0m \u001b[1;33m*\u001b[0m \u001b[0mnp\u001b[0m\u001b[1;33m.\u001b[0m\u001b[0mexp\u001b[0m\u001b[1;33m(\u001b[0m\u001b[1;33m-\u001b[0m\u001b[1;33m(\u001b[0m\u001b[0mx\u001b[0m \u001b[1;33m/\u001b[0m \u001b[0mn\u001b[0m\u001b[1;33m)\u001b[0m\u001b[1;33m**\u001b[0m\u001b[0ma\u001b[0m\u001b[1;33m)\u001b[0m\u001b[1;33m\u001b[0m\u001b[1;33m\u001b[0m\u001b[0m\n\u001b[0;32m      7\u001b[0m \u001b[1;33m\u001b[0m\u001b[0m\n\u001b[1;32m----> 8\u001b[1;33m \u001b[0mCDF0\u001b[0m \u001b[1;33m=\u001b[0m \u001b[0mweib\u001b[0m\u001b[1;33m(\u001b[0m\u001b[0mdist0\u001b[0m\u001b[1;33m,\u001b[0m \u001b[0mmodel_test_for_openmax_revise\u001b[0m\u001b[1;33m.\u001b[0m\u001b[0mloc0\u001b[0m\u001b[1;33m,\u001b[0m \u001b[0mmodel_test_for_openmax_revise\u001b[0m\u001b[1;33m.\u001b[0m\u001b[0mscale0\u001b[0m\u001b[1;33m)\u001b[0m\u001b[1;33m\u001b[0m\u001b[1;33m\u001b[0m\u001b[0m\n\u001b[0m\u001b[0;32m      9\u001b[0m \u001b[0mCDF1\u001b[0m \u001b[1;33m=\u001b[0m \u001b[0mweib\u001b[0m\u001b[1;33m(\u001b[0m\u001b[0mdist1\u001b[0m\u001b[1;33m,\u001b[0m \u001b[0mmodel_test_for_openmax_revise\u001b[0m\u001b[1;33m.\u001b[0m\u001b[0mloc1\u001b[0m\u001b[1;33m,\u001b[0m \u001b[0mmodel_test_for_openmax_revise\u001b[0m\u001b[1;33m.\u001b[0m\u001b[0mscale1\u001b[0m\u001b[1;33m)\u001b[0m\u001b[1;33m\u001b[0m\u001b[1;33m\u001b[0m\u001b[0m\n\u001b[0;32m     10\u001b[0m \u001b[0mCDF2\u001b[0m \u001b[1;33m=\u001b[0m \u001b[0mcalculCDF\u001b[0m\u001b[1;33m(\u001b[0m\u001b[0mdist2\u001b[0m\u001b[1;33m)\u001b[0m\u001b[1;33m\u001b[0m\u001b[1;33m\u001b[0m\u001b[0m\n",
      "\u001b[1;31mAttributeError\u001b[0m: module 'model_test_for_openmax_revise' has no attribute 'loc0'"
     ]
    }
   ],
   "source": [
    "def calculCDF(dist):\n",
    "    CDF = s.exponweib.cdf(i, *s.exponweib.fit(i, 1, 1, scale=2, loc=0))     \n",
    "    return CDF\n",
    "\n",
    "def weib(x,n,a):\n",
    "    return (a / n) * (x / n)**(a - 1) * np.exp(-(x / n)**a)\n",
    "\n",
    "CDF0 = weib(dist0, model_test_for_openmax_revise.loc0, model_test_for_openmax_revise.scale0)\n",
    "CDF1 = weib(dist1, model_test_for_openmax_revise.loc1, model_test_for_openmax_revise.scale1)\n",
    "CDF2 = calculCDF(dist2)\n",
    "\n",
    "CDF0"
   ]
  },
  {
   "cell_type": "markdown",
   "id": "7a637b12",
   "metadata": {},
   "source": [
    "## Logit Vector 업데이트"
   ]
  },
  {
   "cell_type": "code",
   "execution_count": 306,
   "id": "13fb4a16",
   "metadata": {},
   "outputs": [
    {
     "data": {
      "text/plain": [
       "[-0.020461654635741358,\n",
       " 10.331934406077647,\n",
       " -3.7430432357105405,\n",
       " -9.986901328933268]"
      ]
     },
     "execution_count": 306,
     "metadata": {},
     "output_type": "execute_result"
    }
   ],
   "source": [
    "updated_logit = []\n",
    "\n",
    "logit0 = X_result[0]-(X_result[0]*CDF0)\n",
    "logit1 = X_result[1]-(X_result[1]*CDF1)\n",
    "logit2 = X_result[2]-(X_result[2]*CDF2)\n",
    "unknown_logit = CDF0*X_result[0] + CDF1*X_result[1] + CDF2*X_result[2]    # unknown class의 logit vector     \n",
    "\n",
    "updated_logit = [unknown_logit, logit0, logit1, logit2]\n",
    "\n",
    "updated_logit"
   ]
  },
  {
   "cell_type": "markdown",
   "id": "c68d49f4",
   "metadata": {},
   "source": [
    "## Softmax Layer 통과"
   ]
  },
  {
   "cell_type": "code",
   "execution_count": 301,
   "id": "2ebb548b",
   "metadata": {},
   "outputs": [],
   "source": [
    "# softmax function\n",
    "def softmax(x):\n",
    "    e_x = np.exp(x - np.max(x))\n",
    "    return e_x / e_x.sum()"
   ]
  },
  {
   "cell_type": "code",
   "execution_count": 302,
   "id": "477f72a0",
   "metadata": {},
   "outputs": [
    {
     "data": {
      "text/plain": [
       "[3.1915181593394925e-05,\n",
       " 0.9999673118826238,\n",
       " 7.714373835148223e-07,\n",
       " 1.4983993124385063e-09]"
      ]
     },
     "execution_count": 302,
     "metadata": {},
     "output_type": "execute_result"
    }
   ],
   "source": [
    "result_arr = softmax(updated_logit)\n",
    "arr = result_arr.tolist()\n",
    "arr"
   ]
  },
  {
   "cell_type": "markdown",
   "id": "209dfe49",
   "metadata": {},
   "source": [
    "## 결과 확인"
   ]
  },
  {
   "cell_type": "code",
   "execution_count": 303,
   "id": "2acf131e",
   "metadata": {},
   "outputs": [
    {
     "data": {
      "text/plain": [
       "1"
      ]
     },
     "execution_count": 303,
     "metadata": {},
     "output_type": "execute_result"
    }
   ],
   "source": [
    "res = arr.index(max(arr))\n",
    "res"
   ]
  },
  {
   "cell_type": "code",
   "execution_count": 304,
   "id": "1ec52add",
   "metadata": {},
   "outputs": [
    {
     "data": {
      "text/plain": [
       "'혐오성 댓글'"
      ]
     },
     "execution_count": 304,
     "metadata": {},
     "output_type": "execute_result"
    }
   ],
   "source": [
    "if(res==0):\n",
    "    resultstr = \"Unknown\"\n",
    "elif(res==1):\n",
    "    resultstr = \"혐오성 댓글\"\n",
    "elif(res==2):\n",
    "    resultstr = \"일베 댓글\"\n",
    "elif(res == 3):\n",
    "    resultstr = \"여성 비하성 댓글\"\n",
    "    \n",
    "resultstr"
   ]
  },
  {
   "cell_type": "code",
   "execution_count": 305,
   "id": "98c32a67",
   "metadata": {},
   "outputs": [
    {
     "name": "stdout",
     "output_type": "stream",
     "text": [
      "0.9999673118826238 확률로 혐오성 댓글입니다.\n"
     ]
    }
   ],
   "source": [
    "print(str(arr[res]) + \" 확률로 \" + resultstr +\"입니다.\")"
   ]
  }
 ],
 "metadata": {
  "kernelspec": {
   "display_name": "Python 3",
   "language": "python",
   "name": "python3"
  },
  "language_info": {
   "codemirror_mode": {
    "name": "ipython",
    "version": 3
   },
   "file_extension": ".py",
   "mimetype": "text/x-python",
   "name": "python",
   "nbconvert_exporter": "python",
   "pygments_lexer": "ipython3",
   "version": "3.8.8"
  }
 },
 "nbformat": 4,
 "nbformat_minor": 5
}
