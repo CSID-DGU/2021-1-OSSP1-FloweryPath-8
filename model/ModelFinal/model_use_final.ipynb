{
 "cells": [
  {
   "cell_type": "code",
   "execution_count": 1,
   "id": "50d1e8cf",
   "metadata": {
    "scrolled": true
   },
   "outputs": [
    {
     "name": "stdout",
     "output_type": "stream",
     "text": [
      "Requirement already satisfied: import_ipynb in c:\\users\\user\\anaconda3\\lib\\site-packages (0.1.3)\n",
      "importing Jupyter notebook from model_test_for_openmax_revise2.ipynb\n",
      "hate_data : 100000\n",
      "genderbias_data : 1232\n",
      "ilbe_data : 2044\n",
      "<class 'pandas.core.frame.DataFrame'>\n",
      "등장 빈도가 1번 이하인 희귀 단어의 수: 23584\n",
      "단어 집합(vocabulary)에서 희귀 단어의 비율: 83.29742521103381\n",
      "전체 등장 빈도에서 희귀 단어 등장 빈도 비율: 48.95180372784259\n",
      "문장 최대 길이 : 194\n",
      "문장 평균 길이 : 9.164543\n"
     ]
    },
    {
     "data": {
      "image/png": "[encoded data removed]",
      "text/plain": [
       "<Figure size 432x288 with 1 Axes>"
      ]
     },
     "metadata": {
      "needs_background": "light"
     },
     "output_type": "display_data"
    },
    {
     "name": "stdout",
     "output_type": "stream",
     "text": [
      "Model: \"sequential\"\n",
      "_________________________________________________________________\n",
      "Layer (type)                 Output Shape              Param #   \n",
      "=================================================================\n",
      "embedding (Embedding)        (None, 194, 64)           64000000  \n",
      "_________________________________________________________________\n",
      "dropout (Dropout)            (None, 194, 64)           0         \n",
      "_________________________________________________________________\n",
      "conv1d (Conv1D)              (None, 192, 64)           12352     \n",
      "_________________________________________________________________\n",
      "global_max_pooling1d (Global (None, 64)                0         \n",
      "_________________________________________________________________\n",
      "dropout_1 (Dropout)          (None, 64)                0         \n",
      "_________________________________________________________________\n",
      "dense (Dense)                (None, 128)               8320      \n",
      "_________________________________________________________________\n",
      "dropout_2 (Dropout)          (None, 128)               0         \n",
      "_________________________________________________________________\n",
      "dense_1 (Dense)              (None, 3)                 387       \n",
      "=================================================================\n",
      "Total params: 64,021,059\n",
      "Trainable params: 64,021,059\n",
      "Non-trainable params: 0\n",
      "_________________________________________________________________\n",
      "Epoch 1/5\n",
      "132/132 [==============================] - 147s 1s/step - loss: 1.0887 - accuracy: 0.3669 - f1: 0.6915 - precision: 30634188.2707 - recall: 0.3643\n",
      "Epoch 2/5\n",
      "132/132 [==============================] - 143s 1s/step - loss: 1.0648 - accuracy: 0.4020 - f1: 0.8513 - precision: 32052935.0226 - recall: 0.4594\n",
      "Epoch 3/5\n",
      "132/132 [==============================] - 145s 1s/step - loss: 0.9138 - accuracy: 0.5858 - f1: 0.9384 - precision: 1.2394 - recall: 0.8611\n",
      "Epoch 4/5\n",
      "132/132 [==============================] - 145s 1s/step - loss: 0.5042 - accuracy: 0.7881 - f1: 1.0357 - precision: 0.7821 - recall: 1.5494\n",
      "Epoch 5/5\n",
      "132/132 [==============================] - 143s 1s/step - loss: 0.2401 - accuracy: 0.9270 - f1: 0.9800 - precision: 0.7384 - recall: 1.4750\n",
      "Model: \"sequential_1\"\n",
      "_________________________________________________________________\n",
      "Layer (type)                 Output Shape              Param #   \n",
      "=================================================================\n",
      "embedding_1 (Embedding)      (None, 194, 64)           64000000  \n",
      "_________________________________________________________________\n",
      "dropout_3 (Dropout)          (None, 194, 64)           0         \n",
      "_________________________________________________________________\n",
      "conv1d_1 (Conv1D)            (None, 192, 64)           12352     \n",
      "_________________________________________________________________\n",
      "global_max_pooling1d_1 (Glob (None, 64)                0         \n",
      "_________________________________________________________________\n",
      "dropout_4 (Dropout)          (None, 64)                0         \n",
      "_________________________________________________________________\n",
      "dense_2 (Dense)              (None, 128)               8320      \n",
      "_________________________________________________________________\n",
      "dropout_5 (Dropout)          (None, 128)               0         \n",
      "_________________________________________________________________\n",
      "dense_3 (Dense)              (None, 3)                 387       \n",
      "=================================================================\n",
      "Total params: 64,021,059\n",
      "Trainable params: 64,021,059\n",
      "Non-trainable params: 0\n",
      "_________________________________________________________________\n",
      "Epoch 1/5\n",
      "132/132 [==============================] - 147s 1s/step - loss: 1.0798 - accuracy: 0.3978 - f1: 0.9921 - precision: 13305467.0150 - recall: 0.5789\n",
      "Epoch 2/5\n",
      "132/132 [==============================] - 144s 1s/step - loss: 1.0678 - accuracy: 0.4034 - f1: 1.0498 - precision: 11722926.2000 - recall: 0.6203\n",
      "Epoch 3/5\n",
      "132/132 [==============================] - 153s 1s/step - loss: 0.9319 - accuracy: 0.5703 - f1: 0.9479 - precision: 1.5753 - recall: 0.7548\n",
      "Epoch 4/5\n",
      "132/132 [==============================] - 145s 1s/step - loss: 0.5253 - accuracy: 0.7960 - f1: 1.0231 - precision: 0.7992 - recall: 1.4424\n",
      "Epoch 5/5\n",
      "132/132 [==============================] - 146s 1s/step - loss: 0.2386 - accuracy: 0.9243 - f1: 0.9791 - precision: 0.7428 - recall: 1.4505\n",
      "Model: \"sequential_2\"\n",
      "_________________________________________________________________\n",
      "Layer (type)                 Output Shape              Param #   \n",
      "=================================================================\n",
      "embedding_2 (Embedding)      (None, 194, 64)           64000000  \n",
      "_________________________________________________________________\n",
      "dropout_6 (Dropout)          (None, 194, 64)           0         \n",
      "_________________________________________________________________\n",
      "conv1d_2 (Conv1D)            (None, 192, 64)           12352     \n",
      "_________________________________________________________________\n",
      "global_max_pooling1d_2 (Glob (None, 64)                0         \n",
      "_________________________________________________________________\n",
      "dropout_7 (Dropout)          (None, 64)                0         \n",
      "_________________________________________________________________\n",
      "dense_4 (Dense)              (None, 128)               8320      \n",
      "_________________________________________________________________\n",
      "dropout_8 (Dropout)          (None, 128)               0         \n",
      "_________________________________________________________________\n",
      "dense_5 (Dense)              (None, 3)                 387       \n",
      "=================================================================\n",
      "Total params: 64,021,059\n",
      "Trainable params: 64,021,059\n",
      "Non-trainable params: 0\n",
      "_________________________________________________________________\n",
      "Epoch 1/5\n",
      "132/132 [==============================] - 148s 1s/step - loss: 1.0876 - accuracy: 0.3633 - f1: 0.1307 - precision: 12739744.2961 - recall: 0.0655\n",
      "Epoch 2/5\n",
      "132/132 [==============================] - 149s 1s/step - loss: 1.0611 - accuracy: 0.4164 - f1: 0.3095 - precision: 20437421.5789 - recall: 0.1594\n",
      "Epoch 3/5\n",
      "132/132 [==============================] - 149s 1s/step - loss: 0.9046 - accuracy: 0.5859 - f1: 0.9116 - precision: 2.2675 - recall: 0.7290\n",
      "Epoch 4/5\n",
      "132/132 [==============================] - 143s 1s/step - loss: 0.4860 - accuracy: 0.8100 - f1: 0.9797 - precision: 0.7583 - recall: 1.3988\n",
      "Epoch 5/5\n",
      "132/132 [==============================] - 146s 1s/step - loss: 0.2269 - accuracy: 0.9247 - f1: 0.9173 - precision: 0.7065 - recall: 1.3257\n",
      "Model: \"sequential_3\"\n",
      "_________________________________________________________________\n",
      "Layer (type)                 Output Shape              Param #   \n",
      "=================================================================\n",
      "embedding_3 (Embedding)      (None, 194, 64)           64000000  \n",
      "_________________________________________________________________\n",
      "dropout_9 (Dropout)          (None, 194, 64)           0         \n",
      "_________________________________________________________________\n",
      "conv1d_3 (Conv1D)            (None, 192, 64)           12352     \n",
      "_________________________________________________________________\n",
      "global_max_pooling1d_3 (Glob (None, 64)                0         \n",
      "_________________________________________________________________\n",
      "dropout_10 (Dropout)         (None, 64)                0         \n",
      "_________________________________________________________________\n",
      "dense_6 (Dense)              (None, 128)               8320      \n",
      "_________________________________________________________________\n",
      "dropout_11 (Dropout)         (None, 128)               0         \n",
      "_________________________________________________________________\n",
      "dense_7 (Dense)              (None, 3)                 387       \n",
      "=================================================================\n",
      "Total params: 64,021,059\n",
      "Trainable params: 64,021,059\n",
      "Non-trainable params: 0\n",
      "_________________________________________________________________\n",
      "Epoch 1/5\n",
      "132/132 [==============================] - 144s 1s/step - loss: 1.0807 - accuracy: 0.3736 - f1: 0.5592 - precision: 31174672.6466 - recall: 0.2894\n",
      "Epoch 2/5\n"
     ]
    },
    {
     "name": "stdout",
     "output_type": "stream",
     "text": [
      "132/132 [==============================] - 142s 1s/step - loss: 1.0636 - accuracy: 0.4076 - f1: 0.5339 - precision: 34115201.4436 - recall: 0.2736\n",
      "Epoch 3/5\n",
      "132/132 [==============================] - 142s 1s/step - loss: 0.9029 - accuracy: 0.5759 - f1: 0.9395 - precision: 1.3682 - recall: 0.7733\n",
      "Epoch 4/5\n",
      "132/132 [==============================] - 142s 1s/step - loss: 0.4729 - accuracy: 0.8107 - f1: 0.9114 - precision: 0.7328 - recall: 1.2180\n",
      "Epoch 5/5\n",
      "132/132 [==============================] - 141s 1s/step - loss: 0.2170 - accuracy: 0.9292 - f1: 0.8781 - precision: 0.6897 - recall: 1.2214\n",
      "Model: \"sequential_4\"\n",
      "_________________________________________________________________\n",
      "Layer (type)                 Output Shape              Param #   \n",
      "=================================================================\n",
      "embedding_4 (Embedding)      (None, 194, 64)           64000000  \n",
      "_________________________________________________________________\n",
      "dropout_12 (Dropout)         (None, 194, 64)           0         \n",
      "_________________________________________________________________\n",
      "conv1d_4 (Conv1D)            (None, 192, 64)           12352     \n",
      "_________________________________________________________________\n",
      "global_max_pooling1d_4 (Glob (None, 64)                0         \n",
      "_________________________________________________________________\n",
      "dropout_13 (Dropout)         (None, 64)                0         \n",
      "_________________________________________________________________\n",
      "dense_8 (Dense)              (None, 128)               8320      \n",
      "_________________________________________________________________\n",
      "dropout_14 (Dropout)         (None, 128)               0         \n",
      "_________________________________________________________________\n",
      "dense_9 (Dense)              (None, 3)                 387       \n",
      "=================================================================\n",
      "Total params: 64,021,059\n",
      "Trainable params: 64,021,059\n",
      "Non-trainable params: 0\n",
      "_________________________________________________________________\n",
      "Epoch 1/5\n",
      "132/132 [==============================] - 159s 1s/step - loss: 1.0857 - accuracy: 0.3765 - f1: 0.5095 - precision: 28700473.5940 - recall: 0.2614\n",
      "Epoch 2/5\n",
      "132/132 [==============================] - 142s 1s/step - loss: 1.0626 - accuracy: 0.4098 - f1: 0.5039 - precision: 31635547.4286 - recall: 0.2613\n",
      "Epoch 3/5\n",
      "132/132 [==============================] - 144s 1s/step - loss: 0.8639 - accuracy: 0.5996 - f1: 0.8778 - precision: 1.0420 - recall: 0.8309\n",
      "Epoch 4/5\n",
      "132/132 [==============================] - 142s 1s/step - loss: 0.4316 - accuracy: 0.8381 - f1: 0.9678 - precision: 0.7478 - recall: 1.3872\n",
      "Epoch 5/5\n",
      "132/132 [==============================] - 143s 1s/step - loss: 0.2082 - accuracy: 0.9382 - f1: 0.9171 - precision: 0.7091 - recall: 1.3102\n",
      "Epoch 1/5\n",
      "132/132 [==============================] - 147s 1s/step - loss: 0.0774 - accuracy: 0.9798 - f1: 0.8494 - precision: 0.6700 - recall: 1.1731\n",
      "Epoch 2/5\n",
      "132/132 [==============================] - 152s 1s/step - loss: 0.0487 - accuracy: 0.9876 - f1: 0.8141 - precision: 0.6524 - recall: 1.0957\n",
      "Epoch 3/5\n",
      "132/132 [==============================] - 161s 1s/step - loss: 0.0253 - accuracy: 0.9938 - f1: 0.8026 - precision: 0.6450 - recall: 1.0746\n",
      "Epoch 4/5\n",
      "132/132 [==============================] - 141s 1s/step - loss: 0.0156 - accuracy: 0.9964 - f1: 0.7925 - precision: 0.6401 - recall: 1.0514\n",
      "Epoch 5/5\n",
      "132/132 [==============================] - 141s 1s/step - loss: 0.0158 - accuracy: 0.9957 - f1: 0.7896 - precision: 0.6390 - recall: 1.0448\n",
      "167.92878105433533 57.025818830146825\n"
     ]
    },
    {
     "data": {
      "image/png": "[encoded data removed]",
      "text/plain": [
       "<Figure size 432x288 with 1 Axes>"
      ]
     },
     "metadata": {
      "needs_background": "light"
     },
     "output_type": "display_data"
    },
    {
     "name": "stdout",
     "output_type": "stream",
     "text": [
      "102.17626458991248 38.43800583029302\n"
     ]
    },
    {
     "data": {
      "image/png": "[encoded data removed]",
      "text/plain": [
       "<Figure size 432x288 with 1 Axes>"
      ]
     },
     "metadata": {
      "needs_background": "light"
     },
     "output_type": "display_data"
    },
    {
     "name": "stdout",
     "output_type": "stream",
     "text": [
      "241.14744498743082 93.82620635032386\n"
     ]
    },
    {
     "data": {
      "image/png": "[encoded data removed]",
      "text/plain": [
       "<Figure size 432x288 with 1 Axes>"
      ]
     },
     "metadata": {
      "needs_background": "light"
     },
     "output_type": "display_data"
    },
    {
     "name": "stdout",
     "output_type": "stream",
     "text": [
      "66/66 [==============================] - 1s 2ms/step - loss: 4.0318 - accuracy: 0.2596 - f1: 0.9438 - precision: 0.8369 - recall: 1.1194\n"
     ]
    },
    {
     "data": {
      "image/png": "[encoded data removed]",
      "text/plain": [
       "<Figure size 432x288 with 2 Axes>"
      ]
     },
     "metadata": {
      "needs_background": "light"
     },
     "output_type": "display_data"
    },
    {
     "name": "stdout",
     "output_type": "stream",
     "text": [
      "33/33 [==============================] - 1s 8ms/step - loss: 0.8248 - accuracy: 0.7319 - f1: 0.7854 - precision: 0.6368 - recall: 1.0384\n",
      "테스트 정확도: 0.7319\n"
     ]
    }
   ],
   "source": [
    "import numpy as np\n",
    "import pandas as pd\n",
    "%matplotlib inline\n",
    "import matplotlib.pyplot as plt\n",
    "from tensorflow.keras.preprocessing.text import Tokenizer\n",
    "from tensorflow.keras.preprocessing.sequence import pad_sequences\n",
    "!pip install import_ipynb\n",
    "import import_ipynb\n",
    "import model_test_for_openmax_revise2\n",
    "from model_test_for_openmax_revise2 import *"
   ]
  },
  {
   "cell_type": "code",
   "execution_count": 791,
   "id": "02837354",
   "metadata": {
    "scrolled": true
   },
   "outputs": [
    {
     "name": "stdout",
     "output_type": "stream",
     "text": [
      "저 개돼지들은 왜 꼭 당해봐야 아는걸까?? 그래서 개돼진가?\n"
     ]
    }
   ],
   "source": [
    "input_data = str(input())"
   ]
  },
  {
   "cell_type": "code",
   "execution_count": 792,
   "id": "21fd36d1",
   "metadata": {},
   "outputs": [],
   "source": [
    "def tokenize(x_data, tokenizer):\n",
    "    tokenizer.fit_on_texts(x_data) # 데이터의 각 행별로 토큰화 수행\n",
    "    return tokenizer.texts_to_sequences(x_data)    "
   ]
  },
  {
   "cell_type": "code",
   "execution_count": 793,
   "id": "5ca23929",
   "metadata": {},
   "outputs": [
    {
     "data": {
      "text/plain": [
       "['저 개돼지들은 왜 꼭 당해봐야 아는걸까?? 그래서 개돼진가?']"
      ]
     },
     "execution_count": 793,
     "metadata": {},
     "output_type": "execute_result"
    }
   ],
   "source": [
    "x_data = []\n",
    "x_data.append(input_data)\n",
    "y_data = -1    # 임시 값\n",
    "\n",
    "x_data"
   ]
  },
  {
   "cell_type": "code",
   "execution_count": 794,
   "id": "d227dfa8",
   "metadata": {},
   "outputs": [
    {
     "data": {
      "text/plain": [
       "[[1, 2, 3, 4, 5, 6, 7, 8]]"
      ]
     },
     "execution_count": 794,
     "metadata": {},
     "output_type": "execute_result"
    }
   ],
   "source": [
    "tokenizer = Tokenizer()\n",
    "sequences = tokenize(x_data, tokenizer)\n",
    "sequences"
   ]
  },
  {
   "cell_type": "markdown",
   "id": "15aa16f3",
   "metadata": {},
   "source": [
    "## 모델 적용"
   ]
  },
  {
   "cell_type": "code",
   "execution_count": 795,
   "id": "b24325db",
   "metadata": {},
   "outputs": [
    {
     "name": "stdout",
     "output_type": "stream",
     "text": [
      "Requirement already satisfied: keras.models in c:\\users\\user\\anaconda3\\lib\\site-packages (0.0.7)\n",
      "Requirement already satisfied: pathlib in c:\\users\\user\\anaconda3\\lib\\site-packages (from keras.models) (1.0.1)\n",
      "Requirement already satisfied: spacy in c:\\users\\user\\anaconda3\\lib\\site-packages (from keras.models) (3.0.6)\n",
      "Requirement already satisfied: numpy in c:\\users\\user\\anaconda3\\lib\\site-packages (from keras.models) (1.19.5)\n",
      "Requirement already satisfied: keras in c:\\users\\user\\anaconda3\\lib\\site-packages (from keras.models) (2.4.3)\n",
      "Requirement already satisfied: opencv-python in c:\\users\\user\\anaconda3\\lib\\site-packages (from keras.models) (4.5.2.54)\n",
      "Requirement already satisfied: Pillow in c:\\users\\user\\anaconda3\\lib\\site-packages (from keras.models) (8.2.0)\n",
      "Requirement already satisfied: pyyaml in c:\\users\\user\\anaconda3\\lib\\site-packages (from keras->keras.models) (5.4.1)\n",
      "Requirement already satisfied: h5py in c:\\users\\user\\anaconda3\\lib\\site-packages (from keras->keras.models) (2.10.0)\n",
      "Requirement already satisfied: scipy>=0.14 in c:\\users\\user\\anaconda3\\lib\\site-packages (from keras->keras.models) (1.6.2)\n",
      "Requirement already satisfied: six in c:\\users\\user\\anaconda3\\lib\\site-packages (from h5py->keras->keras.models) (1.15.0)\n",
      "Requirement already satisfied: pydantic<1.8.0,>=1.7.1 in c:\\users\\user\\anaconda3\\lib\\site-packages (from spacy->keras.models) (1.7.4)\n",
      "Requirement already satisfied: thinc<8.1.0,>=8.0.3 in c:\\users\\user\\anaconda3\\lib\\site-packages (from spacy->keras.models) (8.0.4)\n",
      "Requirement already satisfied: tqdm<5.0.0,>=4.38.0 in c:\\users\\user\\anaconda3\\lib\\site-packages (from spacy->keras.models) (4.59.0)\n",
      "Requirement already satisfied: murmurhash<1.1.0,>=0.28.0 in c:\\users\\user\\anaconda3\\lib\\site-packages (from spacy->keras.models) (1.0.5)\n",
      "Requirement already satisfied: preshed<3.1.0,>=3.0.2 in c:\\users\\user\\anaconda3\\lib\\site-packages (from spacy->keras.models) (3.0.5)\n",
      "Requirement already satisfied: wasabi<1.1.0,>=0.8.1 in c:\\users\\user\\anaconda3\\lib\\site-packages (from spacy->keras.models) (0.8.2)\n",
      "Requirement already satisfied: typer<0.4.0,>=0.3.0 in c:\\users\\user\\anaconda3\\lib\\site-packages (from spacy->keras.models) (0.3.2)\n",
      "Requirement already satisfied: jinja2 in c:\\users\\user\\anaconda3\\lib\\site-packages (from spacy->keras.models) (2.11.3)\n",
      "Requirement already satisfied: setuptools in c:\\users\\user\\anaconda3\\lib\\site-packages (from spacy->keras.models) (52.0.0.post20210125)\n",
      "Requirement already satisfied: srsly<3.0.0,>=2.4.1 in c:\\users\\user\\anaconda3\\lib\\site-packages (from spacy->keras.models) (2.4.1)\n",
      "Requirement already satisfied: requests<3.0.0,>=2.13.0 in c:\\users\\user\\anaconda3\\lib\\site-packages (from spacy->keras.models) (2.25.1)\n",
      "Requirement already satisfied: cymem<2.1.0,>=2.0.2 in c:\\users\\user\\anaconda3\\lib\\site-packages (from spacy->keras.models) (2.0.5)\n",
      "Requirement already satisfied: packaging>=20.0 in c:\\users\\user\\anaconda3\\lib\\site-packages (from spacy->keras.models) (20.9)\n",
      "Requirement already satisfied: spacy-legacy<3.1.0,>=3.0.4 in c:\\users\\user\\anaconda3\\lib\\site-packages (from spacy->keras.models) (3.0.5)\n",
      "Requirement already satisfied: blis<0.8.0,>=0.4.0 in c:\\users\\user\\anaconda3\\lib\\site-packages (from spacy->keras.models) (0.7.4)\n",
      "Requirement already satisfied: pathy>=0.3.5 in c:\\users\\user\\anaconda3\\lib\\site-packages (from spacy->keras.models) (0.5.2)\n",
      "Requirement already satisfied: catalogue<2.1.0,>=2.0.3 in c:\\users\\user\\anaconda3\\lib\\site-packages (from spacy->keras.models) (2.0.4)\n",
      "Requirement already satisfied: pyparsing>=2.0.2 in c:\\users\\user\\anaconda3\\lib\\site-packages (from packaging>=20.0->spacy->keras.models) (2.4.7)\n",
      "Requirement already satisfied: smart-open<4.0.0,>=2.2.0 in c:\\users\\user\\anaconda3\\lib\\site-packages (from pathy>=0.3.5->spacy->keras.models) (3.0.0)\n",
      "Requirement already satisfied: urllib3<1.27,>=1.21.1 in c:\\users\\user\\anaconda3\\lib\\site-packages (from requests<3.0.0,>=2.13.0->spacy->keras.models) (1.26.4)\n",
      "Requirement already satisfied: chardet<5,>=3.0.2 in c:\\users\\user\\anaconda3\\lib\\site-packages (from requests<3.0.0,>=2.13.0->spacy->keras.models) (4.0.0)\n",
      "Requirement already satisfied: idna<3,>=2.5 in c:\\users\\user\\anaconda3\\lib\\site-packages (from requests<3.0.0,>=2.13.0->spacy->keras.models) (2.10)\n",
      "Requirement already satisfied: certifi>=2017.4.17 in c:\\users\\user\\anaconda3\\lib\\site-packages (from requests<3.0.0,>=2.13.0->spacy->keras.models) (2021.5.30)\n",
      "Requirement already satisfied: click<7.2.0,>=7.1.1 in c:\\users\\user\\anaconda3\\lib\\site-packages (from typer<0.4.0,>=0.3.0->spacy->keras.models) (7.1.2)\n",
      "Requirement already satisfied: MarkupSafe>=0.23 in c:\\users\\user\\anaconda3\\lib\\site-packages (from jinja2->spacy->keras.models) (1.1.1)\n"
     ]
    }
   ],
   "source": [
    "!pip install keras.models\n",
    "from keras.models import model_from_json\n",
    "json_file = open(\"model.json\", \"r\")\n",
    "loaded_model_json = json_file.read() \n",
    "json_file.close()\n",
    "loaded_model = model_from_json(loaded_model_json)"
   ]
  },
  {
   "cell_type": "code",
   "execution_count": 796,
   "id": "fc59e737",
   "metadata": {},
   "outputs": [],
   "source": [
    "loaded_model.load_weights(\"model_weight.h5\")"
   ]
  },
  {
   "cell_type": "code",
   "execution_count": 797,
   "id": "66602d02",
   "metadata": {},
   "outputs": [],
   "source": [
    "loaded_model.compile(optimizer='adam', loss=SparseCategoricalCrossentropy(from_logits=True),metrics= [\"accuracy\",f1,precision, recall])\n",
    "es = EarlyStopping(monitor='loss', mode='min' , min_delta=0)\n",
    "check_point = ModelCheckpoint('apply_model.h5', monitor='loss', mode='min', save_best_only=True)"
   ]
  },
  {
   "cell_type": "code",
   "execution_count": 798,
   "id": "11f7f1d8",
   "metadata": {},
   "outputs": [
    {
     "data": {
      "text/plain": [
       "array([ 6.3358855, -6.555141 , -1.094356 ], dtype=float32)"
      ]
     },
     "execution_count": 798,
     "metadata": {},
     "output_type": "execute_result"
    }
   ],
   "source": [
    "data = sequences\n",
    "X_data = pad_sequences(data, maxlen = model_test_for_openmax_revise2.maxlen)\n",
    "X_result = model_test_for_openmax_revise2.model.predict(X_data, batch_size=32)\n",
    "X_Softmax = model_test_for_openmax_revise2.model2.predict(X_result)\n",
    "\n",
    "X_result = X_result[0]\n",
    "X_result"
   ]
  },
  {
   "cell_type": "markdown",
   "id": "8b3a2472",
   "metadata": {},
   "source": [
    "## logit Vector, Distance 계산"
   ]
  },
  {
   "cell_type": "markdown",
   "id": "f9a45e9d",
   "metadata": {},
   "source": [
    "## 모델 저장"
   ]
  },
  {
   "cell_type": "code",
   "execution_count": 799,
   "id": "1702c662",
   "metadata": {},
   "outputs": [],
   "source": [
    "def distance(logit_vector, average):\n",
    "    m = []\n",
    "    for i in range(0,3):\n",
    "        m.append(logit_vector[i] - average[i])\n",
    "    distance = (m[0]**2) + (m[1]**2) + (m[2]**2)\n",
    "    return distance\n",
    "\n",
    "dist0 = distance(X_result, average_0)\n",
    "dist1 = distance(X_result, average_1)\n",
    "dist2 = distance(X_result, average_2)"
   ]
  },
  {
   "cell_type": "markdown",
   "id": "e116d3c2",
   "metadata": {},
   "source": [
    "## CDF 계산"
   ]
  },
  {
   "cell_type": "code",
   "execution_count": 800,
   "id": "08b3f2e5",
   "metadata": {},
   "outputs": [],
   "source": [
    "import scipy.stats as s\n",
    "import matplotlib.pyplot as plt"
   ]
  },
  {
   "cell_type": "code",
   "execution_count": 801,
   "id": "1390020d",
   "metadata": {},
   "outputs": [],
   "source": [
    "def calculCDF(dist, input_loc, input_scale):\n",
    "    CDF = s.exponweib.cdf(dist, *s.exponweib.fit(dist, 2, 5, scale=input_scale, loc=input_loc))     \n",
    "    return CDF\n",
    "\n",
    "def weib(x,n,a):\n",
    "    return (a / n) * (x / n)**(a - 1) * np.exp(-(x / n)**a)"
   ]
  },
  {
   "cell_type": "code",
   "execution_count": 802,
   "id": "b1ba74b1",
   "metadata": {
    "scrolled": true
   },
   "outputs": [],
   "source": [
    "maxdist0.insert(20,dist0)\n",
    "maxdist0 = maxdist0[0:21]\n",
    "maxdist0.sort(reverse=True)\n",
    "index0 = maxdist0.index(dist0)\n",
    "maxdist1.insert(20,dist1)\n",
    "maxdist1 = maxdist1[0:21]\n",
    "maxdist1.sort(reverse=True)\n",
    "index1 = maxdist1.index(dist1)\n",
    "maxdist2.insert(20,dist2)\n",
    "maxdist2 = maxdist2[0:21]\n",
    "maxdist2.sort(reverse=True)\n",
    "index2 = maxdist2.index(dist2)\n",
    "\n",
    "CDF0 = s.exponweib.cdf(maxdist0, *s.exponweib.fit(maxdist0, 1, 1, scale=2, loc=0))\n",
    "CDF1 = s.exponweib.cdf(maxdist1, *s.exponweib.fit(maxdist1, 1, 1, scale=2, loc=0))\n",
    "CDF2 = s.exponweib.cdf(maxdist2, *s.exponweib.fit(maxdist2, 1, 1, scale=2, loc=0))\n",
    "\n",
    "input_CDF0 = CDF0[index0]\n",
    "input_CDF1 = CDF1[index1]\n",
    "input_CDF2 = CDF2[index2]"
   ]
  },
  {
   "cell_type": "markdown",
   "id": "7a637b12",
   "metadata": {},
   "source": [
    "## Logit Vector 업데이트"
   ]
  },
  {
   "cell_type": "code",
   "execution_count": 803,
   "id": "13fb4a16",
   "metadata": {},
   "outputs": [
    {
     "data": {
      "text/plain": [
       "[-0.33018443960511823,\n",
       " 6.306602243726386,\n",
       " -6.200288105408774,\n",
       " -1.089741086918975]"
      ]
     },
     "execution_count": 803,
     "metadata": {},
     "output_type": "execute_result"
    }
   ],
   "source": [
    "updated_logit = []\n",
    "\n",
    "logit0 = X_result[0]-(X_result[0]*input_CDF0)\n",
    "logit1 = X_result[1]-(X_result[1]*input_CDF1)\n",
    "logit2 = X_result[2]-(X_result[2]*input_CDF2)\n",
    "unknown_logit = (input_CDF0*X_result[0]) + (input_CDF1*X_result[1]) + (input_CDF2*X_result[2]) # unknown class의 logit vector     \n",
    "\n",
    "updated_logit = [unknown_logit, logit0, logit1, logit2]\n",
    "\n",
    "updated_logit"
   ]
  },
  {
   "cell_type": "markdown",
   "id": "c68d49f4",
   "metadata": {},
   "source": [
    "## Softmax Layer 통과"
   ]
  },
  {
   "cell_type": "code",
   "execution_count": 804,
   "id": "2ebb548b",
   "metadata": {},
   "outputs": [],
   "source": [
    "# softmax function\n",
    "def softmax(x):\n",
    "    e_x = np.exp(x - np.max(x))\n",
    "    return e_x / e_x.sum()"
   ]
  },
  {
   "cell_type": "code",
   "execution_count": 805,
   "id": "477f72a0",
   "metadata": {
    "scrolled": true
   },
   "outputs": [],
   "source": [
    "result_arr = softmax(updated_logit)\n",
    "arr = result_arr.tolist()\n",
    "soft_arr = max(arr)\n",
    "res = arr.index(soft_arr)\n",
    "prob = arr[res]"
   ]
  },
  {
   "cell_type": "markdown",
   "id": "209dfe49",
   "metadata": {},
   "source": [
    "## 결과 확인"
   ]
  },
  {
   "cell_type": "code",
   "execution_count": 806,
   "id": "1ec52add",
   "metadata": {},
   "outputs": [
    {
     "data": {
      "text/plain": [
       "'혐오성 댓글'"
      ]
     },
     "execution_count": 806,
     "metadata": {},
     "output_type": "execute_result"
    }
   ],
   "source": [
    "if(res==0):\n",
    "    resultstr = \"Unknown\"\n",
    "elif(res==1):\n",
    "    resultstr = \"혐오성 댓글\"\n",
    "elif(res==2):\n",
    "    resultstr = \"성차별 댓글\"\n",
    "elif(res == 3):\n",
    "    resultstr = \"일베 댓글\"\n",
    "    \n",
    "resultstr"
   ]
  },
  {
   "cell_type": "code",
   "execution_count": 807,
   "id": "98c32a67",
   "metadata": {},
   "outputs": [
    {
     "name": "stdout",
     "output_type": "stream",
     "text": [
      "0.9980752847160983 확률로 혐오성 댓글입니다.\n"
     ]
    }
   ],
   "source": [
    "print(str(prob) + \" 확률로 \" + resultstr +\"입니다.\")"
   ]
  },
  {
   "cell_type": "code",
   "execution_count": 808,
   "id": "5df86a9c",
   "metadata": {},
   "outputs": [
    {
     "name": "stdout",
     "output_type": "stream",
     "text": [
      "33/33 [==============================] - 1s 7ms/step - loss: 3.1495 - accuracy: 0.4346 - f1: 0.8775 - precision: 0.6803 - recall: 1.2472\n",
      "정확도: 0.4439\n"
     ]
    }
   ],
   "source": [
    "print(\"정확도: %.4f\" % (loaded_model.evaluate(X_test, y_test)[1]))"
   ]
  },
  {
   "cell_type": "code",
   "execution_count": null,
   "id": "e20144c6",
   "metadata": {},
   "outputs": [],
   "source": []
  }
 ],
 "metadata": {
  "kernelspec": {
   "display_name": "Python 3",
   "language": "python",
   "name": "python3"
  },
  "language_info": {
   "codemirror_mode": {
    "name": "ipython",
    "version": 3
   },
   "file_extension": ".py",
   "mimetype": "text/x-python",
   "name": "python",
   "nbconvert_exporter": "python",
   "pygments_lexer": "ipython3",
   "version": "3.8.8"
  }
 },
 "nbformat": 4,
 "nbformat_minor": 5
}
