{
 "cells": [
  {
   "cell_type": "code",
   "execution_count": 1,
   "id": "50d1e8cf",
   "metadata": {
    "scrolled": true
   },
   "outputs": [
    {
     "name": "stdout",
     "output_type": "stream",
     "text": [
      "Requirement already satisfied: import_ipynb in c:\\users\\user\\anaconda3\\lib\\site-packages (0.1.3)\n",
      "importing Jupyter notebook from model_test_for_openmax_revise.ipynb\n",
      "hate_data : 100000\n",
      "genderbias_data : 1232\n",
      "ilbe_data : 2044\n",
      "<class 'pandas.core.frame.DataFrame'>\n",
      "등장 빈도가 1번 이하인 희귀 단어의 수: 23621\n",
      "단어 집합(vocabulary)에서 희귀 단어의 비율: 83.27516305305835\n",
      "전체 등장 빈도에서 희귀 단어 등장 빈도 비율: 48.69807236367385\n",
      "문장 최대 길이 : 194\n",
      "문장 평균 길이 : 9.212726\n"
     ]
    },
    {
     "data": {
      "image/png": "[encoded data removed]",
      "text/plain": [
       "<Figure size 432x288 with 1 Axes>"
      ]
     },
     "metadata": {
      "needs_background": "light"
     },
     "output_type": "display_data"
    },
    {
     "name": "stdout",
     "output_type": "stream",
     "text": [
      "Model: \"sequential\"\n",
      "_________________________________________________________________\n",
      "Layer (type)                 Output Shape              Param #   \n",
      "=================================================================\n",
      "embedding (Embedding)        (None, 194, 64)           64000000  \n",
      "_________________________________________________________________\n",
      "dropout (Dropout)            (None, 194, 64)           0         \n",
      "_________________________________________________________________\n",
      "conv1d (Conv1D)              (None, 192, 64)           12352     \n",
      "_________________________________________________________________\n",
      "global_max_pooling1d (Global (None, 64)                0         \n",
      "_________________________________________________________________\n",
      "dropout_1 (Dropout)          (None, 64)                0         \n",
      "_________________________________________________________________\n",
      "dense (Dense)                (None, 64)                4160      \n",
      "_________________________________________________________________\n",
      "dropout_2 (Dropout)          (None, 64)                0         \n",
      "_________________________________________________________________\n",
      "dense_1 (Dense)              (None, 3)                 195       \n",
      "=================================================================\n",
      "Total params: 64,016,707\n",
      "Trainable params: 64,016,707\n",
      "Non-trainable params: 0\n",
      "_________________________________________________________________\n",
      "Epoch 1/5\n",
      "264/264 [==============================] - 268s 1s/step - loss: 1.0864 - accuracy: 0.3833 - f1: 0.3447 - precision: 15366506.7019 - recall: 0.1749\n",
      "Epoch 2/5\n",
      "264/264 [==============================] - 269s 1s/step - loss: 1.0542 - accuracy: 0.4379 - f1: 0.4918 - precision: 14185508.6566 - recall: 0.2646\n",
      "Epoch 3/5\n",
      "264/264 [==============================] - 266s 1s/step - loss: 0.7228 - accuracy: 0.6868 - f1: 0.9237 - precision: 0.8845 - recall: 1.0668\n",
      "Epoch 4/5\n",
      "264/264 [==============================] - 266s 1s/step - loss: 0.3434 - accuracy: 0.8839 - f1: 0.9245 - precision: 0.7152 - recall: 1.3486\n",
      "Epoch 5/5\n",
      "264/264 [==============================] - 267s 1s/step - loss: 0.1442 - accuracy: 0.9622 - f1: 0.8804 - precision: 0.6827 - recall: 1.2671\n",
      "Model: \"sequential_1\"\n",
      "_________________________________________________________________\n",
      "Layer (type)                 Output Shape              Param #   \n",
      "=================================================================\n",
      "embedding_1 (Embedding)      (None, 194, 64)           64000000  \n",
      "_________________________________________________________________\n",
      "dropout_3 (Dropout)          (None, 194, 64)           0         \n",
      "_________________________________________________________________\n",
      "conv1d_1 (Conv1D)            (None, 192, 64)           12352     \n",
      "_________________________________________________________________\n",
      "global_max_pooling1d_1 (Glob (None, 64)                0         \n",
      "_________________________________________________________________\n",
      "dropout_4 (Dropout)          (None, 64)                0         \n",
      "_________________________________________________________________\n",
      "dense_2 (Dense)              (None, 64)                4160      \n",
      "_________________________________________________________________\n",
      "dropout_5 (Dropout)          (None, 64)                0         \n",
      "_________________________________________________________________\n",
      "dense_3 (Dense)              (None, 3)                 195       \n",
      "=================================================================\n",
      "Total params: 64,016,707\n",
      "Trainable params: 64,016,707\n",
      "Non-trainable params: 0\n",
      "_________________________________________________________________\n",
      "Epoch 1/5\n",
      "264/264 [==============================] - 279s 1s/step - loss: 1.0838 - accuracy: 0.3786 - f1: 0.6564 - precision: 17651283.9660 - recall: 0.3490\n",
      "Epoch 2/5\n",
      "264/264 [==============================] - 270s 1s/step - loss: 1.0417 - accuracy: 0.4605 - f1: 0.8427 - precision: 13461382.3396 - recall: 0.4880\n",
      "Epoch 3/5\n",
      "264/264 [==============================] - 282s 1s/step - loss: 0.7370 - accuracy: 0.6747 - f1: 0.8653 - precision: 0.8282 - recall: 0.9938\n",
      "Epoch 4/5\n",
      "264/264 [==============================] - 267s 1s/step - loss: 0.3424 - accuracy: 0.8778 - f1: 0.8764 - precision: 0.6930 - recall: 1.2263\n",
      "Epoch 5/5\n",
      "264/264 [==============================] - 266s 1s/step - loss: 0.1555 - accuracy: 0.9543 - f1: 0.8433 - precision: 0.6680 - recall: 1.1760\n",
      "Model: \"sequential_2\"\n",
      "_________________________________________________________________\n",
      "Layer (type)                 Output Shape              Param #   \n",
      "=================================================================\n",
      "embedding_2 (Embedding)      (None, 194, 64)           64000000  \n",
      "_________________________________________________________________\n",
      "dropout_6 (Dropout)          (None, 194, 64)           0         \n",
      "_________________________________________________________________\n",
      "conv1d_2 (Conv1D)            (None, 192, 64)           12352     \n",
      "_________________________________________________________________\n",
      "global_max_pooling1d_2 (Glob (None, 64)                0         \n",
      "_________________________________________________________________\n",
      "dropout_7 (Dropout)          (None, 64)                0         \n",
      "_________________________________________________________________\n",
      "dense_4 (Dense)              (None, 64)                4160      \n",
      "_________________________________________________________________\n",
      "dropout_8 (Dropout)          (None, 64)                0         \n",
      "_________________________________________________________________\n",
      "dense_5 (Dense)              (None, 3)                 195       \n",
      "=================================================================\n",
      "Total params: 64,016,707\n",
      "Trainable params: 64,016,707\n",
      "Non-trainable params: 0\n",
      "_________________________________________________________________\n",
      "Epoch 1/5\n",
      "264/264 [==============================] - 277s 1s/step - loss: 1.0899 - accuracy: 0.3670 - f1: 0.4137 - precision: 15937810.0075 - recall: 0.2138\n",
      "Epoch 2/5\n",
      "264/264 [==============================] - 273s 1s/step - loss: 1.0517 - accuracy: 0.4580 - f1: 0.7316 - precision: 16165769.5429 - recall: 0.4000\n",
      "Epoch 3/5\n",
      "264/264 [==============================] - 268s 1s/step - loss: 0.7443 - accuracy: 0.6828 - f1: 0.8548 - precision: 0.8808 - recall: 0.9202\n",
      "Epoch 4/5\n",
      "264/264 [==============================] - 271s 1s/step - loss: 0.3222 - accuracy: 0.8939 - f1: 0.9191 - precision: 0.7193 - recall: 1.3033\n",
      "Epoch 5/5\n",
      "264/264 [==============================] - 269s 1s/step - loss: 0.1347 - accuracy: 0.9652 - f1: 0.8631 - precision: 0.6789 - recall: 1.2098\n",
      "Model: \"sequential_3\"\n",
      "_________________________________________________________________\n",
      "Layer (type)                 Output Shape              Param #   \n",
      "=================================================================\n",
      "embedding_3 (Embedding)      (None, 194, 64)           64000000  \n",
      "_________________________________________________________________\n",
      "dropout_9 (Dropout)          (None, 194, 64)           0         \n",
      "_________________________________________________________________\n",
      "conv1d_3 (Conv1D)            (None, 192, 64)           12352     \n",
      "_________________________________________________________________\n",
      "global_max_pooling1d_3 (Glob (None, 64)                0         \n",
      "_________________________________________________________________\n",
      "dropout_10 (Dropout)         (None, 64)                0         \n",
      "_________________________________________________________________\n",
      "dense_6 (Dense)              (None, 64)                4160      \n",
      "_________________________________________________________________\n",
      "dropout_11 (Dropout)         (None, 64)                0         \n",
      "_________________________________________________________________\n",
      "dense_7 (Dense)              (None, 3)                 195       \n",
      "=================================================================\n",
      "Total params: 64,016,707\n",
      "Trainable params: 64,016,707\n",
      "Non-trainable params: 0\n",
      "_________________________________________________________________\n",
      "Epoch 1/5\n",
      "264/264 [==============================] - 272s 1s/step - loss: 1.0867 - accuracy: 0.3862 - f1: 0.4073 - precision: 14874811.3151 - recall: 0.2120\n",
      "Epoch 2/5\n"
     ]
    },
    {
     "name": "stdout",
     "output_type": "stream",
     "text": [
      "264/264 [==============================] - 268s 1s/step - loss: 1.0362 - accuracy: 0.4638 - f1: 0.6855 - precision: 13133127.5453 - recall: 0.4095\n",
      "Epoch 3/5\n",
      "264/264 [==============================] - 274s 1s/step - loss: 0.6938 - accuracy: 0.7091 - f1: 0.9559 - precision: 0.8232 - recall: 1.2010\n",
      "Epoch 4/5\n",
      "264/264 [==============================] - 271s 1s/step - loss: 0.3742 - accuracy: 0.8527 - f1: 1.0030 - precision: 0.7519 - recall: 1.5436\n",
      "Epoch 5/5\n",
      "264/264 [==============================] - 280s 1s/step - loss: 0.1631 - accuracy: 0.9569 - f1: 0.9146 - precision: 0.6904 - recall: 1.3935\n",
      "Model: \"sequential_4\"\n",
      "_________________________________________________________________\n",
      "Layer (type)                 Output Shape              Param #   \n",
      "=================================================================\n",
      "embedding_4 (Embedding)      (None, 194, 64)           64000000  \n",
      "_________________________________________________________________\n",
      "dropout_12 (Dropout)         (None, 194, 64)           0         \n",
      "_________________________________________________________________\n",
      "conv1d_4 (Conv1D)            (None, 192, 64)           12352     \n",
      "_________________________________________________________________\n",
      "global_max_pooling1d_4 (Glob (None, 64)                0         \n",
      "_________________________________________________________________\n",
      "dropout_13 (Dropout)         (None, 64)                0         \n",
      "_________________________________________________________________\n",
      "dense_8 (Dense)              (None, 64)                4160      \n",
      "_________________________________________________________________\n",
      "dropout_14 (Dropout)         (None, 64)                0         \n",
      "_________________________________________________________________\n",
      "dense_9 (Dense)              (None, 3)                 195       \n",
      "=================================================================\n",
      "Total params: 64,016,707\n",
      "Trainable params: 64,016,707\n",
      "Non-trainable params: 0\n",
      "_________________________________________________________________\n",
      "Epoch 1/5\n",
      "264/264 [==============================] - 293s 1s/step - loss: 1.0863 - accuracy: 0.3805 - f1: 0.5058 - precision: 17599331.3679 - recall: 0.2634\n",
      "Epoch 2/5\n",
      "264/264 [==============================] - 287s 1s/step - loss: 1.0469 - accuracy: 0.4403 - f1: 0.4602 - precision: 12268403.8943 - recall: 0.2478\n",
      "Epoch 3/5\n",
      "264/264 [==============================] - 285s 1s/step - loss: 0.6887 - accuracy: 0.7098 - f1: 0.8394 - precision: 0.8321 - recall: 0.9405\n",
      "Epoch 4/5\n",
      "264/264 [==============================] - 285s 1s/step - loss: 0.3294 - accuracy: 0.8870 - f1: 0.8996 - precision: 0.7061 - recall: 1.2763\n",
      "Epoch 5/5\n",
      "264/264 [==============================] - 283s 1s/step - loss: 0.1231 - accuracy: 0.9654 - f1: 0.8412 - precision: 0.6684 - recall: 1.1625\n",
      "Epoch 1/5\n",
      "132/132 [==============================] - 143s 1s/step - loss: 0.0596 - accuracy: 0.9860 - f1: 0.8171 - precision: 0.6489 - recall: 1.1173\n",
      "Epoch 2/5\n",
      "132/132 [==============================] - 148s 1s/step - loss: 0.0355 - accuracy: 0.9936 - f1: 0.8050 - precision: 0.6432 - recall: 1.0877\n",
      "Epoch 3/5\n",
      "132/132 [==============================] - 142s 1s/step - loss: 0.0240 - accuracy: 0.9960 - f1: 0.7942 - precision: 0.6368 - recall: 1.0692\n",
      "Epoch 4/5\n",
      "132/132 [==============================] - 142s 1s/step - loss: 0.0185 - accuracy: 0.9962 - f1: 0.7931 - precision: 0.6361 - recall: 1.0671\n",
      "Epoch 5/5\n",
      "132/132 [==============================] - 147s 1s/step - loss: 0.0178 - accuracy: 0.9957 - f1: 0.7914 - precision: 0.6359 - recall: 1.0596\n",
      "151.75645427629456 57.71718591295248\n"
     ]
    },
    {
     "data": {
      "image/png": "[encoded data removed]",
      "text/plain": [
       "<Figure size 432x288 with 1 Axes>"
      ]
     },
     "metadata": {
      "needs_background": "light"
     },
     "output_type": "display_data"
    },
    {
     "name": "stdout",
     "output_type": "stream",
     "text": [
      "75.29541139992452 39.067319958909415\n"
     ]
    },
    {
     "data": {
      "image/png": "[encoded data removed]",
      "text/plain": [
       "<Figure size 432x288 with 1 Axes>"
      ]
     },
     "metadata": {
      "needs_background": "light"
     },
     "output_type": "display_data"
    },
    {
     "name": "stdout",
     "output_type": "stream",
     "text": [
      "158.94607890269504 60.13258878804705\n"
     ]
    },
    {
     "data": {
      "image/png": "[encoded data removed]",
      "text/plain": [
       "<Figure size 432x288 with 1 Axes>"
      ]
     },
     "metadata": {
      "needs_background": "light"
     },
     "output_type": "display_data"
    },
    {
     "name": "stdout",
     "output_type": "stream",
     "text": [
      "66/66 [==============================] - 2s 2ms/step - loss: 5.1942 - accuracy: 0.1808 - f1: 1.0152 - precision: 0.8947 - recall: 1.2046\n"
     ]
    },
    {
     "data": {
      "image/png": "[encoded data removed]",
      "text/plain": [
       "<Figure size 432x288 with 2 Axes>"
      ]
     },
     "metadata": {
      "needs_background": "light"
     },
     "output_type": "display_data"
    },
    {
     "name": "stdout",
     "output_type": "stream",
     "text": [
      "33/33 [==============================] - 2s 11ms/step - loss: 0.9304 - accuracy: 0.7066 - f1: 0.8271 - precision: 0.6739 - recall: 1.0836\n",
      "테스트 정확도: 0.7066\n"
     ]
    }
   ],
   "source": [
    "import numpy as np\n",
    "import pandas as pd\n",
    "%matplotlib inline\n",
    "import matplotlib.pyplot as plt\n",
    "from tensorflow.keras.preprocessing.text import Tokenizer\n",
    "from tensorflow.keras.preprocessing.sequence import pad_sequences\n",
    "!pip install import_ipynb\n",
    "import import_ipynb\n",
    "import model_test_for_openmax_revise\n",
    "from model_test_for_openmax_revise import *"
   ]
  },
  {
   "cell_type": "code",
   "execution_count": 42,
   "id": "02837354",
   "metadata": {
    "scrolled": true
   },
   "outputs": [
    {
     "name": "stdout",
     "output_type": "stream",
     "text": [
      "1. 사람 얼굴 손톱으로 긁은것은 인격살해이고2. 동영상이 몰카냐? 메걸리안들 생각이 없노,\n"
     ]
    }
   ],
   "source": [
    "input_data = str(input())   # 아직 입력부를 구현하지 않아 임시로 입력"
   ]
  },
  {
   "cell_type": "code",
   "execution_count": 43,
   "id": "21fd36d1",
   "metadata": {},
   "outputs": [],
   "source": [
    "def tokenize(x_data, tokenizer):\n",
    "    tokenizer.fit_on_texts(x_data) # 데이터의 각 행별로 토큰화 수행\n",
    "    return tokenizer.texts_to_sequences(x_data)    "
   ]
  },
  {
   "cell_type": "code",
   "execution_count": 44,
   "id": "5ca23929",
   "metadata": {},
   "outputs": [
    {
     "data": {
      "text/plain": [
       "['1. 사람 얼굴 손톱으로 긁은것은 인격살해이고2. 동영상이 몰카냐? 메걸리안들 생각이 없노,']"
      ]
     },
     "execution_count": 44,
     "metadata": {},
     "output_type": "execute_result"
    }
   ],
   "source": [
    "x_data = []\n",
    "x_data.append(input_data)\n",
    "y_data = -1    # 임시 값\n",
    "\n",
    "x_data"
   ]
  },
  {
   "cell_type": "code",
   "execution_count": 45,
   "id": "d227dfa8",
   "metadata": {},
   "outputs": [
    {
     "data": {
      "text/plain": [
       "[[1, 2, 3, 4, 5, 6, 7, 8, 9, 10, 11]]"
      ]
     },
     "execution_count": 45,
     "metadata": {},
     "output_type": "execute_result"
    }
   ],
   "source": [
    "tokenizer = Tokenizer()\n",
    "sequences = tokenize(x_data, tokenizer)\n",
    "sequences"
   ]
  },
  {
   "cell_type": "markdown",
   "id": "15aa16f3",
   "metadata": {},
   "source": [
    "## 모델 적용"
   ]
  },
  {
   "cell_type": "code",
   "execution_count": 46,
   "id": "b24325db",
   "metadata": {},
   "outputs": [
    {
     "name": "stdout",
     "output_type": "stream",
     "text": [
      "Requirement already satisfied: keras.models in c:\\users\\user\\anaconda3\\lib\\site-packages (0.0.7)\n",
      "Requirement already satisfied: opencv-python in c:\\users\\user\\anaconda3\\lib\\site-packages (from keras.models) (4.5.2.54)\n",
      "Requirement already satisfied: numpy in c:\\users\\user\\anaconda3\\lib\\site-packages (from keras.models) (1.19.5)\n",
      "Requirement already satisfied: Pillow in c:\\users\\user\\anaconda3\\lib\\site-packages (from keras.models) (8.2.0)\n",
      "Requirement already satisfied: keras in c:\\users\\user\\anaconda3\\lib\\site-packages (from keras.models) (2.4.3)\n",
      "Requirement already satisfied: spacy in c:\\users\\user\\anaconda3\\lib\\site-packages (from keras.models) (3.0.6)\n",
      "Requirement already satisfied: pathlib in c:\\users\\user\\anaconda3\\lib\\site-packages (from keras.models) (1.0.1)\n",
      "Requirement already satisfied: h5py in c:\\users\\user\\anaconda3\\lib\\site-packages (from keras->keras.models) (2.10.0)\n",
      "Requirement already satisfied: pyyaml in c:\\users\\user\\anaconda3\\lib\\site-packages (from keras->keras.models) (5.4.1)\n",
      "Requirement already satisfied: scipy>=0.14 in c:\\users\\user\\anaconda3\\lib\\site-packages (from keras->keras.models) (1.6.2)\n",
      "Requirement already satisfied: six in c:\\users\\user\\anaconda3\\lib\\site-packages (from h5py->keras->keras.models) (1.15.0)\n",
      "Requirement already satisfied: jinja2 in c:\\users\\user\\anaconda3\\lib\\site-packages (from spacy->keras.models) (2.11.3)\n",
      "Requirement already satisfied: spacy-legacy<3.1.0,>=3.0.4 in c:\\users\\user\\anaconda3\\lib\\site-packages (from spacy->keras.models) (3.0.5)\n",
      "Requirement already satisfied: wasabi<1.1.0,>=0.8.1 in c:\\users\\user\\anaconda3\\lib\\site-packages (from spacy->keras.models) (0.8.2)\n",
      "Requirement already satisfied: pydantic<1.8.0,>=1.7.1 in c:\\users\\user\\anaconda3\\lib\\site-packages (from spacy->keras.models) (1.7.4)\n",
      "Requirement already satisfied: packaging>=20.0 in c:\\users\\user\\anaconda3\\lib\\site-packages (from spacy->keras.models) (20.9)\n",
      "Requirement already satisfied: thinc<8.1.0,>=8.0.3 in c:\\users\\user\\anaconda3\\lib\\site-packages (from spacy->keras.models) (8.0.4)\n",
      "Requirement already satisfied: murmurhash<1.1.0,>=0.28.0 in c:\\users\\user\\anaconda3\\lib\\site-packages (from spacy->keras.models) (1.0.5)\n",
      "Requirement already satisfied: tqdm<5.0.0,>=4.38.0 in c:\\users\\user\\anaconda3\\lib\\site-packages (from spacy->keras.models) (4.59.0)\n",
      "Requirement already satisfied: typer<0.4.0,>=0.3.0 in c:\\users\\user\\anaconda3\\lib\\site-packages (from spacy->keras.models) (0.3.2)\n",
      "Requirement already satisfied: setuptools in c:\\users\\user\\anaconda3\\lib\\site-packages (from spacy->keras.models) (52.0.0.post20210125)\n",
      "Requirement already satisfied: srsly<3.0.0,>=2.4.1 in c:\\users\\user\\anaconda3\\lib\\site-packages (from spacy->keras.models) (2.4.1)\n",
      "Requirement already satisfied: requests<3.0.0,>=2.13.0 in c:\\users\\user\\anaconda3\\lib\\site-packages (from spacy->keras.models) (2.25.1)\n",
      "Requirement already satisfied: catalogue<2.1.0,>=2.0.3 in c:\\users\\user\\anaconda3\\lib\\site-packages (from spacy->keras.models) (2.0.4)\n",
      "Requirement already satisfied: cymem<2.1.0,>=2.0.2 in c:\\users\\user\\anaconda3\\lib\\site-packages (from spacy->keras.models) (2.0.5)\n",
      "Requirement already satisfied: pathy>=0.3.5 in c:\\users\\user\\anaconda3\\lib\\site-packages (from spacy->keras.models) (0.5.2)\n",
      "Requirement already satisfied: blis<0.8.0,>=0.4.0 in c:\\users\\user\\anaconda3\\lib\\site-packages (from spacy->keras.models) (0.7.4)\n",
      "Requirement already satisfied: preshed<3.1.0,>=3.0.2 in c:\\users\\user\\anaconda3\\lib\\site-packages (from spacy->keras.models) (3.0.5)\n",
      "Requirement already satisfied: pyparsing>=2.0.2 in c:\\users\\user\\anaconda3\\lib\\site-packages (from packaging>=20.0->spacy->keras.models) (2.4.7)\n",
      "Requirement already satisfied: smart-open<4.0.0,>=2.2.0 in c:\\users\\user\\anaconda3\\lib\\site-packages (from pathy>=0.3.5->spacy->keras.models) (3.0.0)\n",
      "Requirement already satisfied: certifi>=2017.4.17 in c:\\users\\user\\anaconda3\\lib\\site-packages (from requests<3.0.0,>=2.13.0->spacy->keras.models) (2021.5.30)\n",
      "Requirement already satisfied: urllib3<1.27,>=1.21.1 in c:\\users\\user\\anaconda3\\lib\\site-packages (from requests<3.0.0,>=2.13.0->spacy->keras.models) (1.26.4)\n",
      "Requirement already satisfied: idna<3,>=2.5 in c:\\users\\user\\anaconda3\\lib\\site-packages (from requests<3.0.0,>=2.13.0->spacy->keras.models) (2.10)\n",
      "Requirement already satisfied: chardet<5,>=3.0.2 in c:\\users\\user\\anaconda3\\lib\\site-packages (from requests<3.0.0,>=2.13.0->spacy->keras.models) (4.0.0)\n",
      "Requirement already satisfied: click<7.2.0,>=7.1.1 in c:\\users\\user\\anaconda3\\lib\\site-packages (from typer<0.4.0,>=0.3.0->spacy->keras.models) (7.1.2)\n",
      "Requirement already satisfied: MarkupSafe>=0.23 in c:\\users\\user\\anaconda3\\lib\\site-packages (from jinja2->spacy->keras.models) (1.1.1)\n"
     ]
    }
   ],
   "source": [
    "!pip install keras.models\n",
    "from keras.models import model_from_json\n",
    "json_file = open(\"model.json\", \"r\")\n",
    "loaded_model_json = json_file.read() \n",
    "json_file.close()\n",
    "loaded_model = model_from_json(loaded_model_json)"
   ]
  },
  {
   "cell_type": "code",
   "execution_count": 47,
   "id": "fc59e737",
   "metadata": {},
   "outputs": [],
   "source": [
    "loaded_model.load_weights(\"model_weight.h5\")"
   ]
  },
  {
   "cell_type": "code",
   "execution_count": 48,
   "id": "66602d02",
   "metadata": {},
   "outputs": [],
   "source": [
    "loaded_model.compile(optimizer='adam', loss=SparseCategoricalCrossentropy(from_logits=True),metrics= [\"accuracy\",f1,precision, recall])\n",
    "es = EarlyStopping(monitor='loss', mode='min' , min_delta=0)\n",
    "check_point = ModelCheckpoint('apply_model.h5', monitor='loss', mode='min', save_best_only=True)\n",
    "#loaded_model.compile(optimizer='adam', loss='sparse_categorical_crossentropy',metrics= [\"accuracy\"])"
   ]
  },
  {
   "cell_type": "code",
   "execution_count": 49,
   "id": "11f7f1d8",
   "metadata": {},
   "outputs": [
    {
     "data": {
      "text/plain": [
       "array([ 6.8311915, -9.046643 , -1.6518546], dtype=float32)"
      ]
     },
     "execution_count": 49,
     "metadata": {},
     "output_type": "execute_result"
    }
   ],
   "source": [
    "data = sequences\n",
    "X_data = pad_sequences(data, maxlen = model_test_for_openmax_revise.maxlen)\n",
    "X_result = model_test_for_openmax_revise.model.predict(X_data, batch_size=32)\n",
    "X_Softmax = model_test_for_openmax_revise.model2.predict(X_result)\n",
    "\n",
    "X_result = X_result[0]\n",
    "X_result"
   ]
  },
  {
   "cell_type": "markdown",
   "id": "8b3a2472",
   "metadata": {},
   "source": [
    "## logit Vector, Distance 계산"
   ]
  },
  {
   "cell_type": "markdown",
   "id": "f9a45e9d",
   "metadata": {},
   "source": [
    "## 모델 저장"
   ]
  },
  {
   "cell_type": "code",
   "execution_count": 50,
   "id": "bacc54d4",
   "metadata": {},
   "outputs": [],
   "source": [
    "#def distance(input_logit, average):\n",
    "#    distance = 0\n",
    "#    for i in range(0,3):\n",
    "#        distance += (i - average[i])**2\n",
    "#    return distance\n",
    "#\n",
    "#input_dist0 = distance(X_result, average_0)\n",
    "#input_dist1 = distance(X_result, average_1)\n",
    "#input_dist2 = distance(X_result, average_2)"
   ]
  },
  {
   "cell_type": "code",
   "execution_count": 51,
   "id": "1702c662",
   "metadata": {},
   "outputs": [],
   "source": [
    "def distance(logit_vector, average):\n",
    "    m = []\n",
    "    for i in range(0,3):\n",
    "        m.append(logit_vector[i] - average[i])\n",
    "    distance = (m[0]**2) + (m[1]**2) + (m[2]**2)\n",
    "    return distance\n",
    "\n",
    "dist0 = distance(X_result, average_0)\n",
    "dist1 = distance(X_result, average_1)\n",
    "dist2 = distance(X_result, average_2)"
   ]
  },
  {
   "cell_type": "markdown",
   "id": "e116d3c2",
   "metadata": {},
   "source": [
    "## CDF 계산"
   ]
  },
  {
   "cell_type": "code",
   "execution_count": 52,
   "id": "08b3f2e5",
   "metadata": {},
   "outputs": [],
   "source": [
    "import scipy.stats as s\n",
    "import matplotlib.pyplot as plt"
   ]
  },
  {
   "cell_type": "code",
   "execution_count": 53,
   "id": "61db6bd3",
   "metadata": {},
   "outputs": [],
   "source": [
    "# inputCDF0 = weib(dist0, model_test_for_openmax_revise.loc0, model_test_for_openmax_revise.scale0)\n",
    "# inputCDF1 = weib(dist1, model_test_for_openmax_revise.loc1, model_test_for_openmax_revise.scale1)\n",
    "# inputCDF2 = weib(dist2, model_test_for_openmax_revise.loc2, model_test_for_openmax_revise.scale2)"
   ]
  },
  {
   "cell_type": "code",
   "execution_count": 54,
   "id": "1390020d",
   "metadata": {},
   "outputs": [],
   "source": [
    "def calculCDF(dist, input_loc, input_scale):\n",
    "    CDF = s.exponweib.cdf(dist, *s.exponweib.fit(dist, 2, 5, scale=input_scale, loc=input_loc))     \n",
    "    return CDF\n",
    "\n",
    "def weib(x,n,a):\n",
    "    return (a / n) * (x / n)**(a - 1) * np.exp(-(x / n)**a)"
   ]
  },
  {
   "cell_type": "code",
   "execution_count": 55,
   "id": "b1ba74b1",
   "metadata": {
    "scrolled": true
   },
   "outputs": [],
   "source": [
    "maxdist0.insert(20,dist0)\n",
    "maxdist0 = maxdist0[0:21]\n",
    "maxdist0.sort(reverse=True)\n",
    "index0 = maxdist0.index(dist0)\n",
    "maxdist1.insert(20,dist1)\n",
    "maxdist1 = maxdist1[0:21]\n",
    "maxdist1.sort(reverse=True)\n",
    "index1 = maxdist1.index(dist1)\n",
    "maxdist2.insert(20,dist2)\n",
    "maxdist2 = maxdist2[0:21]\n",
    "maxdist2.sort(reverse=True)\n",
    "index2 = maxdist2.index(dist2)\n",
    "\n",
    "CDF0 = s.exponweib.cdf(maxdist0, *s.exponweib.fit(maxdist0, 1, 1, scale=2, loc=0))\n",
    "CDF1 = s.exponweib.cdf(maxdist1, *s.exponweib.fit(maxdist1, 1, 1, scale=2, loc=0))\n",
    "CDF2 = s.exponweib.cdf(maxdist2, *s.exponweib.fit(maxdist2, 1, 1, scale=2, loc=0))\n",
    "\n",
    "input_CDF0 = CDF0[index0]\n",
    "input_CDF1 = CDF1[index1]\n",
    "input_CDF2 = CDF2[index2]"
   ]
  },
  {
   "cell_type": "markdown",
   "id": "7a637b12",
   "metadata": {},
   "source": [
    "## Logit Vector 업데이트"
   ]
  },
  {
   "cell_type": "code",
   "execution_count": 56,
   "id": "13fb4a16",
   "metadata": {},
   "outputs": [
    {
     "data": {
      "text/plain": [
       "[-7.646641362460102,\n",
       " 6.804102476581606,\n",
       " -1.4136459600753541,\n",
       " -1.6111215057078323]"
      ]
     },
     "execution_count": 56,
     "metadata": {},
     "output_type": "execute_result"
    }
   ],
   "source": [
    "updated_logit = []\n",
    "\n",
    "logit0 = X_result[0]-(X_result[0]*input_CDF0)\n",
    "logit1 = X_result[1]-(X_result[1]*input_CDF1)\n",
    "logit2 = X_result[2]-(X_result[2]*input_CDF2)\n",
    "unknown_logit = input_CDF0*X_result[0] + input_CDF1*X_result[1] + input_CDF2*X_result[2]    # unknown class의 logit vector     \n",
    "\n",
    "updated_logit = [unknown_logit, logit0, logit1, logit2]\n",
    "\n",
    "updated_logit"
   ]
  },
  {
   "cell_type": "markdown",
   "id": "c68d49f4",
   "metadata": {},
   "source": [
    "## Softmax Layer 통과"
   ]
  },
  {
   "cell_type": "code",
   "execution_count": 57,
   "id": "2ebb548b",
   "metadata": {},
   "outputs": [],
   "source": [
    "# softmax function\n",
    "def softmax(x):\n",
    "    e_x = np.exp(x - np.max(x))\n",
    "    return e_x / e_x.sum()"
   ]
  },
  {
   "cell_type": "code",
   "execution_count": 58,
   "id": "477f72a0",
   "metadata": {
    "scrolled": true
   },
   "outputs": [
    {
     "data": {
      "text/plain": [
       "[5.295514339863617e-07,\n",
       " 0.9995084201801121,\n",
       " 0.00026968926358529236,\n",
       " 0.00022136100486850357]"
      ]
     },
     "execution_count": 58,
     "metadata": {},
     "output_type": "execute_result"
    }
   ],
   "source": [
    "result_arr = softmax(updated_logit)\n",
    "arr = result_arr.tolist()\n",
    "arr"
   ]
  },
  {
   "cell_type": "markdown",
   "id": "209dfe49",
   "metadata": {},
   "source": [
    "## 결과 확인"
   ]
  },
  {
   "cell_type": "code",
   "execution_count": 59,
   "id": "2acf131e",
   "metadata": {},
   "outputs": [
    {
     "data": {
      "text/plain": [
       "1"
      ]
     },
     "execution_count": 59,
     "metadata": {},
     "output_type": "execute_result"
    }
   ],
   "source": [
    "res = arr.index(max(arr))\n",
    "res"
   ]
  },
  {
   "cell_type": "code",
   "execution_count": 60,
   "id": "1ec52add",
   "metadata": {},
   "outputs": [
    {
     "data": {
      "text/plain": [
       "'혐오성 댓글'"
      ]
     },
     "execution_count": 60,
     "metadata": {},
     "output_type": "execute_result"
    }
   ],
   "source": [
    "if(res==0):\n",
    "    resultstr = \"Unknown\"\n",
    "elif(res==1):\n",
    "    resultstr = \"혐오성 댓글\"\n",
    "elif(res==2):\n",
    "    resultstr = \"일베 댓글\"\n",
    "elif(res == 3):\n",
    "    resultstr = \"여성 비하성 댓글\"\n",
    "    \n",
    "resultstr"
   ]
  },
  {
   "cell_type": "code",
   "execution_count": 61,
   "id": "98c32a67",
   "metadata": {},
   "outputs": [
    {
     "name": "stdout",
     "output_type": "stream",
     "text": [
      "0.9995084201801121 확률로 혐오성 댓글입니다.\n"
     ]
    }
   ],
   "source": [
    "print(str(arr[res]) + \" 확률로 \" + resultstr +\"입니다.\")"
   ]
  },
  {
   "cell_type": "code",
   "execution_count": null,
   "id": "763c6304",
   "metadata": {},
   "outputs": [],
   "source": []
  }
 ],
 "metadata": {
  "kernelspec": {
   "display_name": "Python 3",
   "language": "python",
   "name": "python3"
  },
  "language_info": {
   "codemirror_mode": {
    "name": "ipython",
    "version": 3
   },
   "file_extension": ".py",
   "mimetype": "text/x-python",
   "name": "python",
   "nbconvert_exporter": "python",
   "pygments_lexer": "ipython3",
   "version": "3.8.8"
  }
 },
 "nbformat": 4,
 "nbformat_minor": 5
}
