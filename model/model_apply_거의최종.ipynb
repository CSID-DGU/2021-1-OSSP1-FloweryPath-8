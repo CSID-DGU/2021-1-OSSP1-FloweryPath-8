{
 "cells": [
  {
   "cell_type": "code",
   "execution_count": null,
   "id": "50d1e8cf",
   "metadata": {
    "scrolled": true
   },
   "outputs": [],
   "source": [
    "import numpy as np\n",
    "import pandas as pd\n",
    "%matplotlib inline\n",
    "import matplotlib.pyplot as plt\n",
    "from tensorflow.keras.preprocessing.text import Tokenizer\n",
    "from tensorflow.keras.preprocessing.sequence import pad_sequences\n",
    "!pip install import_ipynb\n",
    "import import_ipynb\n",
    "from model_test_for_openmax_add_CDF import*\n",
    "import model_test_for_openmax_add_CDF "
   ]
  },
  {
   "cell_type": "code",
   "execution_count": null,
   "id": "02837354",
   "metadata": {},
   "outputs": [],
   "source": [
    "input_data = input()         # 아직 입력부를 구현하지 않아 임시로 입력"
   ]
  },
  {
   "cell_type": "code",
   "execution_count": null,
   "id": "714ce7eb",
   "metadata": {},
   "outputs": [],
   "source": [
    "data_declaration = {\n",
    "    'comment' : [\"str_Declaration\"],\n",
    "    'label':[-1]\n",
    "}\n",
    "\n",
    "\n",
    "Idata = pd.DataFrame(data_declaration)\n",
    "Idata['comment'] = input_data"
   ]
  },
  {
   "cell_type": "code",
   "execution_count": null,
   "id": "f608f22f",
   "metadata": {},
   "outputs": [],
   "source": [
    "x_data = Idata['comment']\n",
    "y_data = Idata['label']"
   ]
  },
  {
   "cell_type": "code",
   "execution_count": null,
   "id": "21fd36d1",
   "metadata": {},
   "outputs": [],
   "source": [
    "def tokenize(x_data, tokenizer):\n",
    "    tokenizer.fit_on_texts(x_data) # 데이터의 각 행별로 토큰화 수행\n",
    "    return tokenizer.texts_to_sequences(x_data)    "
   ]
  },
  {
   "cell_type": "code",
   "execution_count": null,
   "id": "d227dfa8",
   "metadata": {},
   "outputs": [],
   "source": [
    "tokenizer = Tokenizer()\n",
    "sequences = tokenize(x_data, tokenizer)"
   ]
  },
  {
   "cell_type": "code",
   "execution_count": null,
   "id": "2d8f7e4e",
   "metadata": {},
   "outputs": [],
   "source": [
    "X_data = sequences\n",
    "X_result = pad_sequences(X_data, maxlen = maxlen)"
   ]
  },
  {
   "cell_type": "markdown",
   "id": "15aa16f3",
   "metadata": {},
   "source": [
    "## 모델 적용"
   ]
  },
  {
   "cell_type": "code",
   "execution_count": null,
   "id": "b24325db",
   "metadata": {},
   "outputs": [],
   "source": [
    "!pip install keras.models\n",
    "from keras.models import model_from_json\n",
    "json_file = open(\"model.json\", \"r\")\n",
    "loaded_model_json = json_file.read() \n",
    "json_file.close()\n",
    "loaded_model = model_from_json(loaded_model_json)"
   ]
  },
  {
   "cell_type": "code",
   "execution_count": null,
   "id": "fc59e737",
   "metadata": {},
   "outputs": [],
   "source": [
    "loaded_model.load_weights(\"model_weight.h5\")"
   ]
  },
  {
   "cell_type": "code",
   "execution_count": null,
   "id": "0e9131e8",
   "metadata": {},
   "outputs": [],
   "source": [
    "loaded_model.compile(optimizer='adam', loss='sparse_categorical_crossentropy',metrics=[\"accuracy\",f1,precision, recall])\n",
    "es = EarlyStopping(monitor='loss', mode='min' , min_delta=0)\n",
    "check_point = ModelCheckpoint('apply_model.h5', monitor='loss', mode='min', save_best_only=True)"
   ]
  },
  {
   "cell_type": "code",
   "execution_count": null,
   "id": "2920ff25",
   "metadata": {
    "scrolled": true
   },
   "outputs": [],
   "source": [
    "loaded_model.summary()"
   ]
  },
  {
   "cell_type": "code",
   "execution_count": null,
   "id": "e46dd480",
   "metadata": {
    "scrolled": true
   },
   "outputs": [],
   "source": [
    "X_result = loaded_model.predict(X_data)\n",
    "X_result = np.array(X_result).flatten().tolist()\n",
    "print(X_result)"
   ]
  },
  {
   "cell_type": "markdown",
   "id": "8b3a2472",
   "metadata": {},
   "source": [
    "## logit Vector, Distance 계산"
   ]
  },
  {
   "cell_type": "code",
   "execution_count": null,
   "id": "40071700",
   "metadata": {},
   "outputs": [],
   "source": [
    "class_result = np.where( X_result == np.max(X_result))\n",
    "#class_result = np.where(X_result == max(X_result))\n",
    "#tf_result = (y_data == class_result) # y_data : y 결과값(클래스 분류 값)\n",
    "for_open_max_0 = []\n",
    "for_open_max_1 = []\n",
    "for_open_max_2 = []\n",
    "print(class_result)\n",
    "if(class_result == 0):\n",
    "    for_open_max_0 = X_result\n",
    "if(class_result == 1):\n",
    "    for_open_max_1 = X_result\n",
    "if(class_result == 2):\n",
    "    for_open_max_2 = X_result"
   ]
  },
  {
   "cell_type": "code",
   "execution_count": null,
   "id": "26d641b9",
   "metadata": {},
   "outputs": [],
   "source": [
    "def distance(logit_vector, average):\n",
    "    m = []\n",
    "    for i in range(0,3):\n",
    "        m.append(logit_vector[i] - average[i])\n",
    "    distance = (m[0]**2) + (m[1]**2) + (m[2]**2)\n",
    "    return distance\n",
    "\n",
    "dist0 = distance(X_result, average_0)\n",
    "dist1 = distance(X_result, average_1)\n",
    "dist2 = distance(X_result, average_2)\n",
    "print(dist0)\n",
    "print(dist1)\n",
    "print(dist2)"
   ]
  },
  {
   "cell_type": "markdown",
   "id": "e116d3c2",
   "metadata": {},
   "source": [
    "## CDF 계산"
   ]
  },
  {
   "cell_type": "code",
   "execution_count": null,
   "id": "b1ba74b1",
   "metadata": {},
   "outputs": [],
   "source": [
    "import scipy.stats as s\n",
    "\n",
    "def calculCDF(dist):\n",
    "    CDF = s.exponweib.cdf(i, *s.exponweib.fit(i, 1, 1, scale=2, loc=0))   \n",
    "    return CDF\n",
    "CDF0 = calculCDF(dist0)\n",
    "CDF1 = calculCDF(dist1)\n",
    "CDF2 = calculCDF(dist2)"
   ]
  },
  {
   "cell_type": "markdown",
   "id": "7a637b12",
   "metadata": {},
   "source": [
    "## Logit Vetcr 업데이트"
   ]
  },
  {
   "cell_type": "code",
   "execution_count": null,
   "id": "13fb4a16",
   "metadata": {},
   "outputs": [],
   "source": [
    "updated_logit = []\n",
    "i = 0\n",
    "\n",
    "logit0 = X_result[0]-(X_result[0]*CDF0)\n",
    "logit1 = X_result[1]-(X_result[1]*CDF1)\n",
    "logit2 = X_result[2]-(X_result[2]*CDF2)\n",
    "unkn_logit = CDF0*X_result[0] + CDF1*X_result[1] + CDF2*X_result[2]    # unknown class의 logit vector\n",
    "updated_logit =[logit0, logit1, logit2, unkn_logit]\n",
    "print(updated_logit)"
   ]
  },
  {
   "cell_type": "markdown",
   "id": "cf51691e",
   "metadata": {},
   "source": [
    "## Softmax Layer 통과"
   ]
  },
  {
   "cell_type": "code",
   "execution_count": null,
   "id": "a7cd74a1",
   "metadata": {},
   "outputs": [],
   "source": [
    "def softmax(x):\n",
    "    e_x = np.exp(x - np.max(x))\n",
    "    return e_x / e_x.sum()"
   ]
  },
  {
   "cell_type": "code",
   "execution_count": null,
   "id": "04213059",
   "metadata": {},
   "outputs": [],
   "source": [
    "per = softmax(updated_logit)\n",
    "final_class = np.where( per == max(per))\n",
    "print(final_class)\n",
    "print(per)"
   ]
  },
  {
   "cell_type": "markdown",
   "id": "feab780c",
   "metadata": {},
   "source": [
    "## 결과 확인"
   ]
  },
  {
   "cell_type": "code",
   "execution_count": null,
   "id": "73d40275",
   "metadata": {},
   "outputs": [],
   "source": [
    "#print(\"테스트 결과(accuracy, f1, precision, recall): %.4f % (loaded_model.evaluate(X_data, final_class)[1]))\n",
    "score = loaded_model.evaluate(X_data, final_class)\n",
    "print(\"테스트 결과 : %.4f\", % score)"
   ]
  },
  {
   "cell_type": "markdown",
   "id": "c5d56b6b",
   "metadata": {},
   "source": [
    "## 모델 저장"
   ]
  },
  {
   "cell_type": "code",
   "execution_count": null,
   "id": "84d0da66",
   "metadata": {},
   "outputs": [],
   "source": [
    "##모델을 .json 파일 형식으로 save하여 저장\n",
    "model_json = model.to_json()\n",
    "with open(\"new_model.json\", \"w\") as json_file : \n",
    "    json_file.write(model_json)\n",
    "    \n",
    "model.save_weights(\"new_model_weight.h5\")\n",
    "model.save('new_full_model.h5')"
   ]
  },
  {
   "cell_type": "code",
   "execution_count": null,
   "id": "b0e73711",
   "metadata": {},
   "outputs": [],
   "source": []
  },
  {
   "cell_type": "code",
   "execution_count": null,
   "id": "e224106c",
   "metadata": {},
   "outputs": [],
   "source": []
  }
 ],
 "metadata": {
  "kernelspec": {
   "display_name": "Python 3",
   "language": "python",
   "name": "python3"
  }
 },
 "nbformat": 4,
 "nbformat_minor": 5
}
