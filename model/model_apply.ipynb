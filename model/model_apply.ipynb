{
 "cells": [
  {
   "cell_type": "code",
   "execution_count": 16,
   "id": "50d1e8cf",
   "metadata": {
    "scrolled": false
   },
   "outputs": [
    {
     "ename": "ModuleNotFoundError",
     "evalue": "No module named 'model_test_for_openmax_add_CDF'",
     "output_type": "error",
     "traceback": [
      "\u001b[1;31m----------------------------------------------------------------------\u001b[0m",
      "\u001b[1;31mModuleNotFoundError\u001b[0m                  Traceback (most recent call last)",
      "\u001b[1;32m<ipython-input-16-b53e6bc273e7>\u001b[0m in \u001b[0;36m<module>\u001b[1;34m\u001b[0m\n\u001b[0;32m      5\u001b[0m \u001b[1;32mfrom\u001b[0m \u001b[0mtensorflow\u001b[0m\u001b[1;33m.\u001b[0m\u001b[0mkeras\u001b[0m\u001b[1;33m.\u001b[0m\u001b[0mpreprocessing\u001b[0m\u001b[1;33m.\u001b[0m\u001b[0mtext\u001b[0m \u001b[1;32mimport\u001b[0m \u001b[0mTokenizer\u001b[0m\u001b[1;33m\u001b[0m\u001b[1;33m\u001b[0m\u001b[0m\n\u001b[0;32m      6\u001b[0m \u001b[1;32mfrom\u001b[0m \u001b[0mtensorflow\u001b[0m\u001b[1;33m.\u001b[0m\u001b[0mkeras\u001b[0m\u001b[1;33m.\u001b[0m\u001b[0mpreprocessing\u001b[0m\u001b[1;33m.\u001b[0m\u001b[0msequence\u001b[0m \u001b[1;32mimport\u001b[0m \u001b[0mpad_sequences\u001b[0m\u001b[1;33m\u001b[0m\u001b[1;33m\u001b[0m\u001b[0m\n\u001b[1;32m----> 7\u001b[1;33m \u001b[1;32mimport\u001b[0m \u001b[0mmodel_test_for_openmax_add_CDF\u001b[0m\u001b[1;33m\u001b[0m\u001b[1;33m\u001b[0m\u001b[0m\n\u001b[0m",
      "\u001b[1;31mModuleNotFoundError\u001b[0m: No module named 'model_test_for_openmax_add_CDF'"
     ]
    }
   ],
   "source": [
    "import numpy as np\n",
    "import pandas as pd\n",
    "%matplotlib inline\n",
    "import matplotlib.pyplot as plt\n",
    "from tensorflow.keras.preprocessing.text import Tokenizer\n",
    "from tensorflow.keras.preprocessing.sequence import pad_sequences\n",
    "import model_test_for_openmax_add_CDF"
   ]
  },
  {
   "cell_type": "code",
   "execution_count": 17,
   "id": "02837354",
   "metadata": {},
   "outputs": [
    {
     "name": "stdout",
     "output_type": "stream",
     "text": [
      "\n"
     ]
    }
   ],
   "source": [
    "input_data = input()         # 아직 입력부를 구현하지 않아 임시로 입력"
   ]
  },
  {
   "cell_type": "code",
   "execution_count": null,
   "id": "21fd36d1",
   "metadata": {},
   "outputs": [],
   "source": [
    "def tokenize(x_data, tokenizer):\n",
    "    tokenizer.fit_on_texts(x_data) # 데이터의 각 행별로 토큰화 수행\n",
    "    return tokenizer.texts_to_sequences(x_data)    "
   ]
  },
  {
   "cell_type": "code",
   "execution_count": null,
   "id": "5ca23929",
   "metadata": {},
   "outputs": [],
   "source": [
    "x_data = input_data"
   ]
  },
  {
   "cell_type": "code",
   "execution_count": null,
   "id": "d227dfa8",
   "metadata": {},
   "outputs": [],
   "source": [
    "tokenizer = Tokenizer()\n",
    "sequences = tokenize(x_data, tokenizer)"
   ]
  },
  {
   "cell_type": "markdown",
   "id": "001e2b3d",
   "metadata": {},
   "source": [
    "## 모델 적용"
   ]
  },
  {
   "cell_type": "code",
   "execution_count": null,
   "id": "b24325db",
   "metadata": {},
   "outputs": [],
   "source": [
    "from.models import model_from_json_file = open(\"model.json\", \"r\")\n",
    "loaded_model_json = json_file.road() json_file.close()\n",
    "loaded_model = model_from_json(loaded_model_json)"
   ]
  },
  {
   "cell_type": "code",
   "execution_count": null,
   "id": "fc59e737",
   "metadata": {},
   "outputs": [],
   "source": [
    "loaded_model.loade_weights(\"model_weights.h5\")"
   ]
  },
  {
   "cell_type": "code",
   "execution_count": null,
   "id": "8cd13862",
   "metadata": {},
   "outputs": [],
   "source": [
    "loaded_model.compile(optimizer='adam', loss='sparse_categorical_crossentropy',metrics=[\"accuracy\",f1,precision, recall])"
   ]
  },
  {
   "cell_type": "markdown",
   "id": "e26caad0",
   "metadata": {},
   "source": [
    "## logit Vector, Distance 계산"
   ]
  },
  {
   "cell_type": "code",
   "execution_count": null,
   "id": "fb6d220d",
   "metadata": {},
   "outputs": [],
   "source": [
    "class_result = 0\n",
    "class_result.append(numbers.index(max(X_result)))\n",
    "\n",
    "tf_result = (y_test == class_result)\n",
    "\n",
    "for_open_max_0 = []; \n",
    "for_open_max_1 = [];\n",
    "for_open_max_2 = [];\n",
    "\n",
    "if(tf_result == True):\n",
    "    if(class_result == 0):\n",
    "        for_open_max_0.append(X_result)\n",
    "    if(class_result == 1):\n",
    "        for_open_max_1.append(X_result)\n",
    "    if(class_result == 2):\n",
    "        for_open_max_2.append(X_result)"
   ]
  },
  {
   "cell_type": "code",
   "execution_count": null,
   "id": "29c76adb",
   "metadata": {},
   "outputs": [],
   "source": [
    "input_average_0 = average_vector(for_open_max_0, class_result) #평균 Logit Vector - Class 0\n",
    "input_average_1 = average_vector(for_open_max_1, class_result) #평균 Logit Vector - Class 1\n",
    "input_average_2 = average_vector(for_open_max_2, class_result) #평균 Logit Vector - Class 2"
   ]
  },
  {
   "cell_type": "code",
   "execution_count": null,
   "id": "f1178273",
   "metadata": {},
   "outputs": [],
   "source": [
    "dist0 = distance(for_open_max_0, input_average_0)\n",
    "dist1 = distance(for_open_max_1, input_average_1)\n",
    "dist2 = distance(for_open_max_2, input_average_2)"
   ]
  },
  {
   "cell_type": "markdown",
   "id": "ee38491e",
   "metadata": {},
   "source": [
    "## CDF 계산"
   ]
  },
  {
   "cell_type": "code",
   "execution_count": null,
   "id": "04f6d099",
   "metadata": {},
   "outputs": [],
   "source": [
    "def calculCDF(dist):\n",
    "    CDF = []\n",
    "    for i in dist:\n",
    "        CDF.append(s.exponweib.cdf(i, *s.exponweib.fit(i, 1, 1, scale=2, loc=0)))     \n",
    "        return CDF\n",
    "CDF0 = calculCDF(dist0)\n",
    "CDF1 = calculCDF(dist1)\n",
    "CDF2 = calculCDF(dist2)"
   ]
  },
  {
   "cell_type": "markdown",
   "id": "036141e1",
   "metadata": {},
   "source": [
    "## Logit Vetcr 업데이트"
   ]
  },
  {
   "cell_type": "code",
   "execution_count": null,
   "id": "a514a4df",
   "metadata": {},
   "outputs": [],
   "source": [
    "updated_logit = []\n",
    "i = 0\n",
    "\n",
    "logit0 = X_result[0]-(X_result[0]*CDF0[i])\n",
    "logit1 = X_result[1]-(X_result[1]*CDF1[i])\n",
    "logit2 = X_result[2]-(X_result[2]*CDF2[i])\n",
    "unkn_logit = CDF0[i]*X_result[0] + CDF1[i]*X_result[1] + CDF2[i]*X_result[2]    # unknown class의 logit vector\n",
    "updated_logit.append([unkn_logit, logit0, logit1, logit2])     \n",
    "i += 1"
   ]
  },
  {
   "cell_type": "code",
   "execution_count": null,
   "id": "3efc11f1",
   "metadata": {},
   "outputs": [],
   "source": [
    "# update 된 logit veoctor로 softmax layer 통과"
   ]
  }
 ],
 "metadata": {
  "kernelspec": {
   "display_name": "Python 3",
   "language": "python",
   "name": "python3"
  },
  "language_info": {
   "codemirror_mode": {
    "name": "ipython",
    "version": 3
   },
   "file_extension": ".py",
   "mimetype": "text/x-python",
   "name": "python",
   "nbconvert_exporter": "python",
   "pygments_lexer": "ipython3",
   "version": "3.8.8"
  }
 },
 "nbformat": 4,
 "nbformat_minor": 5
}
