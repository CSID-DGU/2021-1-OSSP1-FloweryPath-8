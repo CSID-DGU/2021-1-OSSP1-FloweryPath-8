{
 "cells": [
  {
   "cell_type": "code",
   "execution_count": null,
   "id": "50d1e8cf",
   "metadata": {},
   "outputs": [],
   "source": [
    "import numpy as np\n",
    "import pandas as pd\n",
    "%matplotlib inline\n",
    "import matplotlib.pyplot as plt\n",
    "from tensorflow.keras.preprocessing.text import Tokenizer\n",
    "from tensorflow.keras.preprocessing.sequence import pad_sequences\n",
    "import model_test_for_openmax_kfold"
   ]
  },
  {
   "cell_type": "code",
   "execution_count": null,
   "id": "02837354",
   "metadata": {},
   "outputs": [],
   "source": [
    "input_data = input()         # 아직 입력부를 구현하지 않아 임시로 입력"
   ]
  },
  {
   "cell_type": "code",
   "execution_count": null,
   "id": "21fd36d1",
   "metadata": {},
   "outputs": [],
   "source": [
    "def tokenize(x_data, tokenizer):\n",
    "    tokenizer.fit_on_texts(x_data) # 데이터의 각 행별로 토큰화 수행\n",
    "    return tokenizer.texts_to_sequences(x_data)    "
   ]
  },
  {
   "cell_type": "code",
   "execution_count": null,
   "id": "5ca23929",
   "metadata": {},
   "outputs": [],
   "source": [
    "x_data = input_data"
   ]
  },
  {
   "cell_type": "code",
   "execution_count": null,
   "id": "d227dfa8",
   "metadata": {},
   "outputs": [],
   "source": [
    "tokenizer = Tokenizer()\n",
    "sequences = tokenize(x_data, tokenizer)"
   ]
  },
  {
   "cell_type": "code",
   "execution_count": null,
   "id": "b24325db",
   "metadata": {},
   "outputs": [],
   "source": [
    "from.models import model_from_json_file = open(\"model.json\", \"r\")\n",
    "loaded_model_json = json_file.road() json_file.close()\n",
    "loaded_model = model_from_json(loaded_model_json)"
   ]
  },
  {
   "cell_type": "code",
   "execution_count": null,
   "id": "fc59e737",
   "metadata": {},
   "outputs": [],
   "source": [
    "loaded_model.loade_weights(\"model_weights.h5\")"
   ]
  },
  {
   "cell_type": "code",
   "execution_count": null,
   "id": "8cd13862",
   "metadata": {},
   "outputs": [],
   "source": [
    "loaded_model.compile(optimizer='adam', loss='sparse_categorical_crossentropy',metrics=[\"accuracy\",f1,precision, recall])"
   ]
  }
 ],
 "metadata": {
  "kernelspec": {
   "display_name": "Python 3",
   "language": "python",
   "name": "python3"
  },
  "language_info": {
   "codemirror_mode": {
    "name": "ipython",
    "version": 3
   },
   "file_extension": ".py",
   "mimetype": "text/x-python",
   "name": "python",
   "nbconvert_exporter": "python",
   "pygments_lexer": "ipython3",
   "version": "3.8.8"
  }
 },
 "nbformat": 4,
 "nbformat_minor": 5
}
